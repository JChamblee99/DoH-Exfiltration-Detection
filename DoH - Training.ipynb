{
  "nbformat": 4,
  "nbformat_minor": 0,
  "metadata": {
    "colab": {
      "name": "DoH - Training.ipynb",
      "provenance": [],
      "collapsed_sections": [
        "TUWj_Mv-3TwD",
        "HTzXyZk8xzlB",
        "eDJ4WsFsLLAa"
      ],
      "toc_visible": true
    },
    "kernelspec": {
      "name": "python3",
      "display_name": "Python 3"
    }
  },
  "cells": [
    {
      "cell_type": "code",
      "metadata": {
        "id": "MQADjIdwDydB",
        "colab_type": "code",
        "colab": {}
      },
      "source": [
        "from fastai import *\n",
        "from fastai.tabular import *"
      ],
      "execution_count": null,
      "outputs": []
    },
    {
      "cell_type": "code",
      "metadata": {
        "id": "eBY4rbZnuxes",
        "colab_type": "code",
        "colab": {
          "base_uri": "https://localhost:8080/",
          "height": 122
        },
        "outputId": "0cabf44d-2407-42cc-f2fb-c4cee5ac84f1"
      },
      "source": [
        "from google.colab import drive\n",
        "drive.mount('/content/drive/')\n",
        "\n",
        "# Change this path for your project\n",
        "path = \"/content/drive/My Drive/FastAI/DoH-Exfiltration-Detection/data/\""
      ],
      "execution_count": null,
      "outputs": [
        {
          "output_type": "stream",
          "text": [
            "Go to this URL in a browser: https://accounts.google.com/o/oauth2/auth?client_id=947318989803-6bn6qk8qdgf4n4g3pfee6491hc0brc4i.apps.googleusercontent.com&redirect_uri=urn%3aietf%3awg%3aoauth%3a2.0%3aoob&response_type=code&scope=email%20https%3a%2f%2fwww.googleapis.com%2fauth%2fdocs.test%20https%3a%2f%2fwww.googleapis.com%2fauth%2fdrive%20https%3a%2f%2fwww.googleapis.com%2fauth%2fdrive.photos.readonly%20https%3a%2f%2fwww.googleapis.com%2fauth%2fpeopleapi.readonly\n",
            "\n",
            "Enter your authorization code:\n",
            "··········\n",
            "Mounted at /content/drive/\n"
          ],
          "name": "stdout"
        }
      ]
    },
    {
      "cell_type": "markdown",
      "metadata": {
        "id": "rOcQYeRTmybA",
        "colab_type": "text"
      },
      "source": [
        "# Feature Engineering - time series and filtering"
      ]
    },
    {
      "cell_type": "code",
      "metadata": {
        "id": "FZEq-VEI_bMp",
        "colab_type": "code",
        "colab": {}
      },
      "source": [
        "df = pd.read_csv(path + 'train.csv')"
      ],
      "execution_count": null,
      "outputs": []
    },
    {
      "cell_type": "code",
      "metadata": {
        "id": "xcDZKIIo_gvz",
        "colab_type": "code",
        "colab": {
          "base_uri": "https://localhost:8080/",
          "height": 374
        },
        "outputId": "888508d4-c476-4aa6-ec77-9c0a26ee13fd"
      },
      "source": [
        "df.columns"
      ],
      "execution_count": null,
      "outputs": [
        {
          "output_type": "execute_result",
          "data": {
            "text/plain": [
              "Index(['No.', 'Time', 'Source', 'Destination', 'Protocol', 'Length', 'Info',\n",
              "       'From_Target', 'OS', 'Software', 'Comm_Type', 'Session',\n",
              "       'Info_Filtered', 'Handshake', 'Seq', 'Ack', 'Win', 'Len',\n",
              "       'Conversation_dT', 'Conversation_Protocol_T-1',\n",
              "       'Conversation_Protocol_T-2', 'Conversation_Protocol_T-3',\n",
              "       'Conversation_Protocol_T-4', 'Conversation_Protocol_T-5',\n",
              "       'Conversation_Protocol_T-6', 'Conversation_Protocol_T-7',\n",
              "       'Conversation_Protocol_T-8', 'Conversation_Protocol_T-9',\n",
              "       'Conversation_Length_T-1', 'Conversation_Length_T-2',\n",
              "       'Conversation_Length_T-3', 'Conversation_Length_T-4',\n",
              "       'Conversation_Length_T-5', 'Conversation_Length_T-6',\n",
              "       'Conversation_Length_T-7', 'Conversation_Length_T-8',\n",
              "       'Conversation_Length_T-9', 'Conversation_From_Target_T-1',\n",
              "       'Conversation_From_Target_T-2', 'Conversation_From_Target_T-3',\n",
              "       'Conversation_From_Target_T-4', 'Conversation_From_Target_T-5',\n",
              "       'Conversation_From_Target_T-6', 'Conversation_From_Target_T-7',\n",
              "       'Conversation_From_Target_T-8', 'Conversation_From_Target_T-9',\n",
              "       'Conversation_dT_T-1', 'Conversation_dT_T-2', 'Conversation_dT_T-3',\n",
              "       'Conversation_dT_T-4', 'Conversation_dT_T-5', 'Conversation_dT_T-6',\n",
              "       'Conversation_dT_T-7', 'Conversation_dT_T-8', 'Conversation_dT_T-9'],\n",
              "      dtype='object')"
            ]
          },
          "metadata": {
            "tags": []
          },
          "execution_count": 5
        }
      ]
    },
    {
      "cell_type": "code",
      "metadata": {
        "colab_type": "code",
        "id": "cplQQs0am2WJ",
        "colab": {}
      },
      "source": [
        "cat_vars = ['Protocol', 'From_Target', 'Handshake', 'Info_Filtered',\n",
        "            'Conversation_Protocol_T-1','Conversation_Protocol_T-2','Conversation_Protocol_T-3','Conversation_Protocol_T-4','Conversation_Protocol_T-5',\n",
        "            'Conversation_Protocol_T-6','Conversation_Protocol_T-7','Conversation_Protocol_T-8','Conversation_Protocol_T-9',\n",
        "            'Conversation_From_Target_T-1','Conversation_From_Target_T-2','Conversation_From_Target_T-3','Conversation_From_Target_T-4','Conversation_From_Target_T-5',\n",
        "            'Conversation_From_Target_T-6','Conversation_From_Target_T-7','Conversation_From_Target_T-8','Conversation_From_Target_T-9']\n",
        "\n",
        "cont_vars = ['Length', 'Seq', 'Ack', 'Win', 'Len', 'Conversation_dT',\n",
        "             'Conversation_Length_T-1', 'Conversation_Length_T-2', 'Conversation_Length_T-3', 'Conversation_Length_T-4', 'Conversation_Length_T-5',\n",
        "             'Conversation_Length_T-6', 'Conversation_Length_T-7', 'Conversation_Length_T-8', 'Conversation_Length_T-9',\n",
        "             'Conversation_dT_T-1', 'Conversation_dT_T-2', 'Conversation_dT_T-3', 'Conversation_dT_T-4', 'Conversation_dT_T-5',\n",
        "             'Conversation_dT_T-6', 'Conversation_dT_T-7', 'Conversation_dT_T-8', 'Conversation_dT_T-9']\n",
        "\n",
        "dep_var = 'Comm_Type'\n",
        "\n",
        "procs=[FillMissing, Categorify, Normalize]"
      ],
      "execution_count": null,
      "outputs": []
    },
    {
      "cell_type": "code",
      "metadata": {
        "colab_type": "code",
        "id": "zpvPUTxom2Ws",
        "colab": {
          "base_uri": "https://localhost:8080/",
          "height": 230
        },
        "outputId": "4f666b26-2bac-4c4f-bdb7-f2bb319fd1fa"
      },
      "source": [
        "df[3:6]"
      ],
      "execution_count": null,
      "outputs": [
        {
          "output_type": "execute_result",
          "data": {
            "text/html": [
              "<div>\n",
              "<style scoped>\n",
              "    .dataframe tbody tr th:only-of-type {\n",
              "        vertical-align: middle;\n",
              "    }\n",
              "\n",
              "    .dataframe tbody tr th {\n",
              "        vertical-align: top;\n",
              "    }\n",
              "\n",
              "    .dataframe thead th {\n",
              "        text-align: right;\n",
              "    }\n",
              "</style>\n",
              "<table border=\"1\" class=\"dataframe\">\n",
              "  <thead>\n",
              "    <tr style=\"text-align: right;\">\n",
              "      <th></th>\n",
              "      <th>No.</th>\n",
              "      <th>Time</th>\n",
              "      <th>Source</th>\n",
              "      <th>Destination</th>\n",
              "      <th>Protocol</th>\n",
              "      <th>Length</th>\n",
              "      <th>Info</th>\n",
              "      <th>From_Target</th>\n",
              "      <th>OS</th>\n",
              "      <th>Software</th>\n",
              "      <th>Comm_Type</th>\n",
              "      <th>Session</th>\n",
              "      <th>Info_Filtered</th>\n",
              "      <th>Handshake</th>\n",
              "      <th>Seq</th>\n",
              "      <th>Ack</th>\n",
              "      <th>Win</th>\n",
              "      <th>Len</th>\n",
              "      <th>Conversation_dT</th>\n",
              "      <th>Conversation_Protocol_T-1</th>\n",
              "      <th>Conversation_Protocol_T-2</th>\n",
              "      <th>Conversation_Protocol_T-3</th>\n",
              "      <th>Conversation_Protocol_T-4</th>\n",
              "      <th>Conversation_Protocol_T-5</th>\n",
              "      <th>Conversation_Protocol_T-6</th>\n",
              "      <th>Conversation_Protocol_T-7</th>\n",
              "      <th>Conversation_Protocol_T-8</th>\n",
              "      <th>Conversation_Protocol_T-9</th>\n",
              "      <th>Conversation_Length_T-1</th>\n",
              "      <th>Conversation_Length_T-2</th>\n",
              "      <th>Conversation_Length_T-3</th>\n",
              "      <th>Conversation_Length_T-4</th>\n",
              "      <th>Conversation_Length_T-5</th>\n",
              "      <th>Conversation_Length_T-6</th>\n",
              "      <th>Conversation_Length_T-7</th>\n",
              "      <th>Conversation_Length_T-8</th>\n",
              "      <th>Conversation_Length_T-9</th>\n",
              "      <th>Conversation_From_Target_T-1</th>\n",
              "      <th>Conversation_From_Target_T-2</th>\n",
              "      <th>Conversation_From_Target_T-3</th>\n",
              "      <th>Conversation_From_Target_T-4</th>\n",
              "      <th>Conversation_From_Target_T-5</th>\n",
              "      <th>Conversation_From_Target_T-6</th>\n",
              "      <th>Conversation_From_Target_T-7</th>\n",
              "      <th>Conversation_From_Target_T-8</th>\n",
              "      <th>Conversation_From_Target_T-9</th>\n",
              "      <th>Conversation_dT_T-1</th>\n",
              "      <th>Conversation_dT_T-2</th>\n",
              "      <th>Conversation_dT_T-3</th>\n",
              "      <th>Conversation_dT_T-4</th>\n",
              "      <th>Conversation_dT_T-5</th>\n",
              "      <th>Conversation_dT_T-6</th>\n",
              "      <th>Conversation_dT_T-7</th>\n",
              "      <th>Conversation_dT_T-8</th>\n",
              "      <th>Conversation_dT_T-9</th>\n",
              "    </tr>\n",
              "  </thead>\n",
              "  <tbody>\n",
              "    <tr>\n",
              "      <th>3</th>\n",
              "      <td>5</td>\n",
              "      <td>1.035037</td>\n",
              "      <td>Target</td>\n",
              "      <td>1.1.1.1</td>\n",
              "      <td>TLSv1.2</td>\n",
              "      <td>213</td>\n",
              "      <td>Application Data</td>\n",
              "      <td>True</td>\n",
              "      <td>Windows 10</td>\n",
              "      <td>Chrome</td>\n",
              "      <td>DoH</td>\n",
              "      <td>1</td>\n",
              "      <td>Application Data</td>\n",
              "      <td>NaN</td>\n",
              "      <td>NaN</td>\n",
              "      <td>NaN</td>\n",
              "      <td>NaN</td>\n",
              "      <td>NaN</td>\n",
              "      <td>0.000063</td>\n",
              "      <td>TLSv1.2</td>\n",
              "      <td>NaN</td>\n",
              "      <td>NaN</td>\n",
              "      <td>NaN</td>\n",
              "      <td>NaN</td>\n",
              "      <td>NaN</td>\n",
              "      <td>NaN</td>\n",
              "      <td>NaN</td>\n",
              "      <td>NaN</td>\n",
              "      <td>114.0</td>\n",
              "      <td>NaN</td>\n",
              "      <td>NaN</td>\n",
              "      <td>NaN</td>\n",
              "      <td>NaN</td>\n",
              "      <td>NaN</td>\n",
              "      <td>NaN</td>\n",
              "      <td>NaN</td>\n",
              "      <td>NaN</td>\n",
              "      <td>True</td>\n",
              "      <td>NaN</td>\n",
              "      <td>NaN</td>\n",
              "      <td>NaN</td>\n",
              "      <td>NaN</td>\n",
              "      <td>NaN</td>\n",
              "      <td>NaN</td>\n",
              "      <td>NaN</td>\n",
              "      <td>NaN</td>\n",
              "      <td>NaN</td>\n",
              "      <td>NaN</td>\n",
              "      <td>NaN</td>\n",
              "      <td>NaN</td>\n",
              "      <td>NaN</td>\n",
              "      <td>NaN</td>\n",
              "      <td>NaN</td>\n",
              "      <td>NaN</td>\n",
              "      <td>NaN</td>\n",
              "    </tr>\n",
              "    <tr>\n",
              "      <th>4</th>\n",
              "      <td>6</td>\n",
              "      <td>1.035572</td>\n",
              "      <td>Target</td>\n",
              "      <td>1.1.1.1</td>\n",
              "      <td>TLSv1.2</td>\n",
              "      <td>114</td>\n",
              "      <td>Application Data</td>\n",
              "      <td>True</td>\n",
              "      <td>Windows 10</td>\n",
              "      <td>Chrome</td>\n",
              "      <td>DoH</td>\n",
              "      <td>1</td>\n",
              "      <td>Application Data</td>\n",
              "      <td>NaN</td>\n",
              "      <td>NaN</td>\n",
              "      <td>NaN</td>\n",
              "      <td>NaN</td>\n",
              "      <td>NaN</td>\n",
              "      <td>0.000535</td>\n",
              "      <td>TLSv1.2</td>\n",
              "      <td>TLSv1.2</td>\n",
              "      <td>NaN</td>\n",
              "      <td>NaN</td>\n",
              "      <td>NaN</td>\n",
              "      <td>NaN</td>\n",
              "      <td>NaN</td>\n",
              "      <td>NaN</td>\n",
              "      <td>NaN</td>\n",
              "      <td>213.0</td>\n",
              "      <td>114.0</td>\n",
              "      <td>NaN</td>\n",
              "      <td>NaN</td>\n",
              "      <td>NaN</td>\n",
              "      <td>NaN</td>\n",
              "      <td>NaN</td>\n",
              "      <td>NaN</td>\n",
              "      <td>NaN</td>\n",
              "      <td>True</td>\n",
              "      <td>True</td>\n",
              "      <td>NaN</td>\n",
              "      <td>NaN</td>\n",
              "      <td>NaN</td>\n",
              "      <td>NaN</td>\n",
              "      <td>NaN</td>\n",
              "      <td>NaN</td>\n",
              "      <td>NaN</td>\n",
              "      <td>0.000063</td>\n",
              "      <td>NaN</td>\n",
              "      <td>NaN</td>\n",
              "      <td>NaN</td>\n",
              "      <td>NaN</td>\n",
              "      <td>NaN</td>\n",
              "      <td>NaN</td>\n",
              "      <td>NaN</td>\n",
              "      <td>NaN</td>\n",
              "    </tr>\n",
              "    <tr>\n",
              "      <th>5</th>\n",
              "      <td>7</td>\n",
              "      <td>1.035649</td>\n",
              "      <td>Target</td>\n",
              "      <td>1.1.1.1</td>\n",
              "      <td>TLSv1.2</td>\n",
              "      <td>114</td>\n",
              "      <td>Application Data</td>\n",
              "      <td>True</td>\n",
              "      <td>Windows 10</td>\n",
              "      <td>Chrome</td>\n",
              "      <td>DoH</td>\n",
              "      <td>1</td>\n",
              "      <td>Application Data</td>\n",
              "      <td>NaN</td>\n",
              "      <td>NaN</td>\n",
              "      <td>NaN</td>\n",
              "      <td>NaN</td>\n",
              "      <td>NaN</td>\n",
              "      <td>0.000077</td>\n",
              "      <td>TLSv1.2</td>\n",
              "      <td>TLSv1.2</td>\n",
              "      <td>TLSv1.2</td>\n",
              "      <td>NaN</td>\n",
              "      <td>NaN</td>\n",
              "      <td>NaN</td>\n",
              "      <td>NaN</td>\n",
              "      <td>NaN</td>\n",
              "      <td>NaN</td>\n",
              "      <td>114.0</td>\n",
              "      <td>213.0</td>\n",
              "      <td>114.0</td>\n",
              "      <td>NaN</td>\n",
              "      <td>NaN</td>\n",
              "      <td>NaN</td>\n",
              "      <td>NaN</td>\n",
              "      <td>NaN</td>\n",
              "      <td>NaN</td>\n",
              "      <td>True</td>\n",
              "      <td>True</td>\n",
              "      <td>True</td>\n",
              "      <td>NaN</td>\n",
              "      <td>NaN</td>\n",
              "      <td>NaN</td>\n",
              "      <td>NaN</td>\n",
              "      <td>NaN</td>\n",
              "      <td>NaN</td>\n",
              "      <td>0.000535</td>\n",
              "      <td>0.000063</td>\n",
              "      <td>NaN</td>\n",
              "      <td>NaN</td>\n",
              "      <td>NaN</td>\n",
              "      <td>NaN</td>\n",
              "      <td>NaN</td>\n",
              "      <td>NaN</td>\n",
              "      <td>NaN</td>\n",
              "    </tr>\n",
              "  </tbody>\n",
              "</table>\n",
              "</div>"
            ],
            "text/plain": [
              "   No.      Time  ... Conversation_dT_T-8 Conversation_dT_T-9\n",
              "3    5  1.035037  ...                 NaN                 NaN\n",
              "4    6  1.035572  ...                 NaN                 NaN\n",
              "5    7  1.035649  ...                 NaN                 NaN\n",
              "\n",
              "[3 rows x 55 columns]"
            ]
          },
          "metadata": {
            "tags": []
          },
          "execution_count": 7
        }
      ]
    },
    {
      "cell_type": "code",
      "metadata": {
        "colab_type": "code",
        "id": "_lg31Jfxm2XG",
        "colab": {
          "base_uri": "https://localhost:8080/",
          "height": 34
        },
        "outputId": "e475fb88-bed7-4bdf-a5de-91f1cf6605bc"
      },
      "source": [
        "np.unique(df['Comm_Type'])"
      ],
      "execution_count": null,
      "outputs": [
        {
          "output_type": "execute_result",
          "data": {
            "text/plain": [
              "array(['Browsing', 'DNS', 'DoH', 'Exfiltration'], dtype=object)"
            ]
          },
          "metadata": {
            "tags": []
          },
          "execution_count": 8
        }
      ]
    },
    {
      "cell_type": "code",
      "metadata": {
        "id": "jcItqsplQVmp",
        "colab_type": "code",
        "colab": {}
      },
      "source": [
        "np.random.seed(42)\n",
        "data = (TabularList.from_df(df, cat_names=cat_vars, cont_names = cont_vars, procs=procs)\n",
        "       .split_by_rand_pct(0.2)\n",
        "       .label_from_df(cols=dep_var)\n",
        "       #.add_test(TabularList.from_df(df_test, cat_names=cat_vars, cont_names=cont_vars))\n",
        "       .databunch(bs=500))"
      ],
      "execution_count": null,
      "outputs": []
    },
    {
      "cell_type": "code",
      "metadata": {
        "colab_type": "code",
        "id": "3SWPRgmUm2XR",
        "colab": {}
      },
      "source": [
        "learn = tabular_learner(data, layers=[1000,500], ps=[0.001, 0.01], emb_drop = 0.04, metrics=accuracy)"
      ],
      "execution_count": null,
      "outputs": []
    },
    {
      "cell_type": "code",
      "metadata": {
        "id": "XBVMByh0Bhbo",
        "colab_type": "code",
        "colab": {
          "base_uri": "https://localhost:8080/",
          "height": 405
        },
        "outputId": "21eb2a02-81c7-4223-ae30-54342422bd4a"
      },
      "source": [
        "learn.lr_find()\n",
        "learn.recorder.plot()"
      ],
      "execution_count": null,
      "outputs": [
        {
          "output_type": "display_data",
          "data": {
            "text/html": [
              "\n",
              "    <div>\n",
              "        <style>\n",
              "            /* Turns off some styling */\n",
              "            progress {\n",
              "                /* gets rid of default border in Firefox and Opera. */\n",
              "                border: none;\n",
              "                /* Needs to be in here for Safari polyfill so background images work as expected. */\n",
              "                background-size: auto;\n",
              "            }\n",
              "            .progress-bar-interrupted, .progress-bar-interrupted::-webkit-progress-bar {\n",
              "                background: #F44336;\n",
              "            }\n",
              "        </style>\n",
              "      <progress value='1' class='' max='2' style='width:300px; height:20px; vertical-align: middle;'></progress>\n",
              "      50.00% [1/2 00:13<00:13]\n",
              "    </div>\n",
              "    \n",
              "<table border=\"1\" class=\"dataframe\">\n",
              "  <thead>\n",
              "    <tr style=\"text-align: left;\">\n",
              "      <th>epoch</th>\n",
              "      <th>train_loss</th>\n",
              "      <th>valid_loss</th>\n",
              "      <th>accuracy</th>\n",
              "      <th>time</th>\n",
              "    </tr>\n",
              "  </thead>\n",
              "  <tbody>\n",
              "    <tr>\n",
              "      <td>0</td>\n",
              "      <td>1.331931</td>\n",
              "      <td>#na#</td>\n",
              "      <td>00:13</td>\n",
              "    </tr>\n",
              "  </tbody>\n",
              "</table><p>\n",
              "\n",
              "    <div>\n",
              "        <style>\n",
              "            /* Turns off some styling */\n",
              "            progress {\n",
              "                /* gets rid of default border in Firefox and Opera. */\n",
              "                border: none;\n",
              "                /* Needs to be in here for Safari polyfill so background images work as expected. */\n",
              "                background-size: auto;\n",
              "            }\n",
              "            .progress-bar-interrupted, .progress-bar-interrupted::-webkit-progress-bar {\n",
              "                background: #F44336;\n",
              "            }\n",
              "        </style>\n",
              "      <progress value='1' class='' max='87' style='width:300px; height:20px; vertical-align: middle;'></progress>\n",
              "      1.15% [1/87 00:00<00:21 2.0726]\n",
              "    </div>\n",
              "    "
            ],
            "text/plain": [
              "<IPython.core.display.HTML object>"
            ]
          },
          "metadata": {
            "tags": []
          }
        },
        {
          "output_type": "stream",
          "text": [
            "LR Finder is complete, type {learner_name}.recorder.plot() to see the graph.\n"
          ],
          "name": "stdout"
        },
        {
          "output_type": "display_data",
          "data": {
            "image/png": "[encoded data removed]",
            "text/plain": [
              "<Figure size 432x288 with 1 Axes>"
            ]
          },
          "metadata": {
            "tags": [],
            "needs_background": "light"
          }
        }
      ]
    },
    {
      "cell_type": "code",
      "metadata": {
        "colab_type": "code",
        "id": "LG9oXkzWm2Xa",
        "colab": {
          "base_uri": "https://localhost:8080/",
          "height": 204
        },
        "outputId": "4c855a9c-0221-424e-b0a1-b0557a489cfd"
      },
      "source": [
        "learn.fit_one_cycle(5, max_lr = 2e-2)"
      ],
      "execution_count": null,
      "outputs": [
        {
          "output_type": "display_data",
          "data": {
            "text/html": [
              "<table border=\"1\" class=\"dataframe\">\n",
              "  <thead>\n",
              "    <tr style=\"text-align: left;\">\n",
              "      <th>epoch</th>\n",
              "      <th>train_loss</th>\n",
              "      <th>valid_loss</th>\n",
              "      <th>accuracy</th>\n",
              "      <th>time</th>\n",
              "    </tr>\n",
              "  </thead>\n",
              "  <tbody>\n",
              "    <tr>\n",
              "      <td>0</td>\n",
              "      <td>0.292237</td>\n",
              "      <td>0.130620</td>\n",
              "      <td>0.947257</td>\n",
              "      <td>00:14</td>\n",
              "    </tr>\n",
              "    <tr>\n",
              "      <td>1</td>\n",
              "      <td>0.150335</td>\n",
              "      <td>0.121396</td>\n",
              "      <td>0.951392</td>\n",
              "      <td>00:14</td>\n",
              "    </tr>\n",
              "    <tr>\n",
              "      <td>2</td>\n",
              "      <td>0.093238</td>\n",
              "      <td>0.075987</td>\n",
              "      <td>0.970780</td>\n",
              "      <td>00:14</td>\n",
              "    </tr>\n",
              "    <tr>\n",
              "      <td>3</td>\n",
              "      <td>0.062861</td>\n",
              "      <td>0.059292</td>\n",
              "      <td>0.978682</td>\n",
              "      <td>00:13</td>\n",
              "    </tr>\n",
              "    <tr>\n",
              "      <td>4</td>\n",
              "      <td>0.041318</td>\n",
              "      <td>0.053060</td>\n",
              "      <td>0.980520</td>\n",
              "      <td>00:14</td>\n",
              "    </tr>\n",
              "  </tbody>\n",
              "</table>"
            ],
            "text/plain": [
              "<IPython.core.display.HTML object>"
            ]
          },
          "metadata": {
            "tags": []
          }
        }
      ]
    },
    {
      "cell_type": "code",
      "metadata": {
        "colab_type": "code",
        "id": "7USJA51Hm2Xi",
        "colab": {
          "base_uri": "https://localhost:8080/",
          "height": 311
        },
        "outputId": "4d7c3ed9-571c-4311-ea7a-b3eafa132a4a"
      },
      "source": [
        "interp = ClassificationInterpretation.from_learner(learn)\n",
        "interp.plot_confusion_matrix()"
      ],
      "execution_count": null,
      "outputs": [
        {
          "output_type": "display_data",
          "data": {
            "text/html": [
              ""
            ],
            "text/plain": [
              "<IPython.core.display.HTML object>"
            ]
          },
          "metadata": {
            "tags": []
          }
        },
        {
          "output_type": "display_data",
          "data": {
            "image/png": "[encoded data removed]",
            "text/plain": [
              "<Figure size 432x288 with 1 Axes>"
            ]
          },
          "metadata": {
            "tags": [],
            "needs_background": "light"
          }
        }
      ]
    },
    {
      "cell_type": "code",
      "metadata": {
        "colab_type": "code",
        "id": "Gt31MhBgm2Xw",
        "colab": {
          "base_uri": "https://localhost:8080/",
          "height": 396
        },
        "outputId": "9d337e20-d800-45f2-8ad8-38377fb7eaa8"
      },
      "source": [
        "interp.plot_tab_top_losses(k=10)"
      ],
      "execution_count": null,
      "outputs": [
        {
          "output_type": "display_data",
          "data": {
            "text/html": [
              "<div>\n",
              "<style scoped>\n",
              "    .dataframe tbody tr th:only-of-type {\n",
              "        vertical-align: middle;\n",
              "    }\n",
              "\n",
              "    .dataframe tbody tr th {\n",
              "        vertical-align: top;\n",
              "    }\n",
              "\n",
              "    .dataframe thead tr th {\n",
              "        text-align: left;\n",
              "    }\n",
              "</style>\n",
              "<table border=\"1\" class=\"dataframe\">\n",
              "  <thead>\n",
              "    <tr>\n",
              "      <th></th>\n",
              "      <th>Prediction</th>\n",
              "      <th>Actual</th>\n",
              "      <th>Loss</th>\n",
              "      <th>Probability</th>\n",
              "      <th>Protocol</th>\n",
              "      <th>From_Target</th>\n",
              "      <th>Handshake</th>\n",
              "      <th>Info_Filtered</th>\n",
              "      <th>Conversation_Protocol_T-1</th>\n",
              "      <th>Conversation_Protocol_T-2</th>\n",
              "      <th>Conversation_Protocol_T-3</th>\n",
              "      <th>Conversation_Protocol_T-4</th>\n",
              "      <th>Conversation_Protocol_T-5</th>\n",
              "      <th>Conversation_Protocol_T-6</th>\n",
              "      <th>Conversation_Protocol_T-7</th>\n",
              "      <th>Conversation_Protocol_T-8</th>\n",
              "      <th>Conversation_Protocol_T-9</th>\n",
              "      <th>Conversation_From_Target_T-1</th>\n",
              "      <th>Conversation_From_Target_T-2</th>\n",
              "      <th>Conversation_From_Target_T-3</th>\n",
              "      <th>Conversation_From_Target_T-4</th>\n",
              "      <th>Conversation_From_Target_T-5</th>\n",
              "      <th>Conversation_From_Target_T-6</th>\n",
              "      <th>Conversation_From_Target_T-7</th>\n",
              "      <th>Conversation_From_Target_T-8</th>\n",
              "      <th>Conversation_From_Target_T-9</th>\n",
              "      <th>Seq_na</th>\n",
              "      <th>Ack_na</th>\n",
              "      <th>Win_na</th>\n",
              "      <th>Len_na</th>\n",
              "      <th>Conversation_dT_na</th>\n",
              "      <th>Conversation_Length_T-1_na</th>\n",
              "      <th>Conversation_Length_T-2_na</th>\n",
              "      <th>Conversation_Length_T-3_na</th>\n",
              "      <th>Conversation_Length_T-4_na</th>\n",
              "      <th>Conversation_Length_T-5_na</th>\n",
              "      <th>Conversation_Length_T-6_na</th>\n",
              "      <th>Conversation_Length_T-7_na</th>\n",
              "      <th>Conversation_Length_T-8_na</th>\n",
              "      <th>Conversation_Length_T-9_na</th>\n",
              "      <th>Conversation_dT_T-1_na</th>\n",
              "      <th>Conversation_dT_T-2_na</th>\n",
              "      <th>Conversation_dT_T-3_na</th>\n",
              "      <th>Conversation_dT_T-4_na</th>\n",
              "      <th>Conversation_dT_T-5_na</th>\n",
              "      <th>Conversation_dT_T-6_na</th>\n",
              "      <th>Conversation_dT_T-7_na</th>\n",
              "      <th>Conversation_dT_T-8_na</th>\n",
              "      <th>Conversation_dT_T-9_na</th>\n",
              "      <th>Length</th>\n",
              "      <th>Seq</th>\n",
              "      <th>Ack</th>\n",
              "      <th>Win</th>\n",
              "      <th>Len</th>\n",
              "      <th>Conversation_dT</th>\n",
              "      <th>Conversation_Length_T-1</th>\n",
              "      <th>Conversation_Length_T-2</th>\n",
              "      <th>Conversation_Length_T-3</th>\n",
              "      <th>Conversation_Length_T-4</th>\n",
              "      <th>Conversation_Length_T-5</th>\n",
              "      <th>Conversation_Length_T-6</th>\n",
              "      <th>Conversation_Length_T-7</th>\n",
              "      <th>Conversation_Length_T-8</th>\n",
              "      <th>Conversation_Length_T-9</th>\n",
              "      <th>Conversation_dT_T-1</th>\n",
              "      <th>Conversation_dT_T-2</th>\n",
              "      <th>Conversation_dT_T-3</th>\n",
              "      <th>Conversation_dT_T-4</th>\n",
              "      <th>Conversation_dT_T-5</th>\n",
              "      <th>Conversation_dT_T-6</th>\n",
              "      <th>Conversation_dT_T-7</th>\n",
              "      <th>Conversation_dT_T-8</th>\n",
              "      <th>Conversation_dT_T-9</th>\n",
              "    </tr>\n",
              "  </thead>\n",
              "  <tbody>\n",
              "    <tr>\n",
              "      <th>0</th>\n",
              "      <td>Browsing</td>\n",
              "      <td>DoH</td>\n",
              "      <td>8.45</td>\n",
              "      <td>0.00</td>\n",
              "      <td>TCP</td>\n",
              "      <td>True</td>\n",
              "      <td>[ACK]</td>\n",
              "      <td>Len=</td>\n",
              "      <td>TCP</td>\n",
              "      <td>TCP</td>\n",
              "      <td>#na#</td>\n",
              "      <td>#na#</td>\n",
              "      <td>#na#</td>\n",
              "      <td>#na#</td>\n",
              "      <td>#na#</td>\n",
              "      <td>#na#</td>\n",
              "      <td>#na#</td>\n",
              "      <td>False</td>\n",
              "      <td>True</td>\n",
              "      <td>#na#</td>\n",
              "      <td>#na#</td>\n",
              "      <td>#na#</td>\n",
              "      <td>#na#</td>\n",
              "      <td>#na#</td>\n",
              "      <td>#na#</td>\n",
              "      <td>#na#</td>\n",
              "      <td>False</td>\n",
              "      <td>False</td>\n",
              "      <td>False</td>\n",
              "      <td>False</td>\n",
              "      <td>False</td>\n",
              "      <td>False</td>\n",
              "      <td>False</td>\n",
              "      <td>True</td>\n",
              "      <td>True</td>\n",
              "      <td>True</td>\n",
              "      <td>True</td>\n",
              "      <td>True</td>\n",
              "      <td>True</td>\n",
              "      <td>True</td>\n",
              "      <td>False</td>\n",
              "      <td>True</td>\n",
              "      <td>True</td>\n",
              "      <td>True</td>\n",
              "      <td>True</td>\n",
              "      <td>True</td>\n",
              "      <td>True</td>\n",
              "      <td>True</td>\n",
              "      <td>True</td>\n",
              "      <td>-0.7347</td>\n",
              "      <td>-0.2261</td>\n",
              "      <td>-0.1999</td>\n",
              "      <td>0.0156</td>\n",
              "      <td>-0.3844</td>\n",
              "      <td>-0.1236</td>\n",
              "      <td>-0.7116</td>\n",
              "      <td>-0.7144</td>\n",
              "      <td>-0.6678</td>\n",
              "      <td>-0.6653</td>\n",
              "      <td>-0.6642</td>\n",
              "      <td>-0.6649</td>\n",
              "      <td>-0.6650</td>\n",
              "      <td>-0.6609</td>\n",
              "      <td>-0.6619</td>\n",
              "      <td>-0.1252</td>\n",
              "      <td>-0.1220</td>\n",
              "      <td>-0.1201</td>\n",
              "      <td>-0.1184</td>\n",
              "      <td>-0.1141</td>\n",
              "      <td>-0.1109</td>\n",
              "      <td>-0.1087</td>\n",
              "      <td>-0.1033</td>\n",
              "      <td>-0.1048</td>\n",
              "    </tr>\n",
              "    <tr>\n",
              "      <th>1</th>\n",
              "      <td>Browsing</td>\n",
              "      <td>DoH</td>\n",
              "      <td>8.14</td>\n",
              "      <td>0.00</td>\n",
              "      <td>TCP</td>\n",
              "      <td>False</td>\n",
              "      <td>ACK]</td>\n",
              "      <td>WS=</td>\n",
              "      <td>TCP</td>\n",
              "      <td>#na#</td>\n",
              "      <td>#na#</td>\n",
              "      <td>#na#</td>\n",
              "      <td>#na#</td>\n",
              "      <td>#na#</td>\n",
              "      <td>#na#</td>\n",
              "      <td>#na#</td>\n",
              "      <td>#na#</td>\n",
              "      <td>True</td>\n",
              "      <td>#na#</td>\n",
              "      <td>#na#</td>\n",
              "      <td>#na#</td>\n",
              "      <td>#na#</td>\n",
              "      <td>#na#</td>\n",
              "      <td>#na#</td>\n",
              "      <td>#na#</td>\n",
              "      <td>#na#</td>\n",
              "      <td>False</td>\n",
              "      <td>False</td>\n",
              "      <td>False</td>\n",
              "      <td>False</td>\n",
              "      <td>False</td>\n",
              "      <td>False</td>\n",
              "      <td>True</td>\n",
              "      <td>True</td>\n",
              "      <td>True</td>\n",
              "      <td>True</td>\n",
              "      <td>True</td>\n",
              "      <td>True</td>\n",
              "      <td>True</td>\n",
              "      <td>True</td>\n",
              "      <td>True</td>\n",
              "      <td>True</td>\n",
              "      <td>True</td>\n",
              "      <td>True</td>\n",
              "      <td>True</td>\n",
              "      <td>True</td>\n",
              "      <td>True</td>\n",
              "      <td>True</td>\n",
              "      <td>True</td>\n",
              "      <td>-0.7145</td>\n",
              "      <td>-0.2261</td>\n",
              "      <td>-0.1999</td>\n",
              "      <td>-0.0996</td>\n",
              "      <td>-0.3844</td>\n",
              "      <td>-0.1233</td>\n",
              "      <td>-0.7116</td>\n",
              "      <td>-0.6705</td>\n",
              "      <td>-0.6678</td>\n",
              "      <td>-0.6653</td>\n",
              "      <td>-0.6642</td>\n",
              "      <td>-0.6649</td>\n",
              "      <td>-0.6650</td>\n",
              "      <td>-0.6609</td>\n",
              "      <td>-0.6619</td>\n",
              "      <td>-0.1255</td>\n",
              "      <td>-0.1220</td>\n",
              "      <td>-0.1201</td>\n",
              "      <td>-0.1184</td>\n",
              "      <td>-0.1141</td>\n",
              "      <td>-0.1109</td>\n",
              "      <td>-0.1087</td>\n",
              "      <td>-0.1033</td>\n",
              "      <td>-0.1048</td>\n",
              "    </tr>\n",
              "    <tr>\n",
              "      <th>2</th>\n",
              "      <td>Browsing</td>\n",
              "      <td>DoH</td>\n",
              "      <td>7.84</td>\n",
              "      <td>0.00</td>\n",
              "      <td>TCP</td>\n",
              "      <td>False</td>\n",
              "      <td>[ACK]</td>\n",
              "      <td>Len=</td>\n",
              "      <td>TLSv1.2</td>\n",
              "      <td>TCP</td>\n",
              "      <td>TCP</td>\n",
              "      <td>TCP</td>\n",
              "      <td>#na#</td>\n",
              "      <td>#na#</td>\n",
              "      <td>#na#</td>\n",
              "      <td>#na#</td>\n",
              "      <td>#na#</td>\n",
              "      <td>True</td>\n",
              "      <td>True</td>\n",
              "      <td>False</td>\n",
              "      <td>True</td>\n",
              "      <td>#na#</td>\n",
              "      <td>#na#</td>\n",
              "      <td>#na#</td>\n",
              "      <td>#na#</td>\n",
              "      <td>#na#</td>\n",
              "      <td>False</td>\n",
              "      <td>False</td>\n",
              "      <td>False</td>\n",
              "      <td>False</td>\n",
              "      <td>False</td>\n",
              "      <td>False</td>\n",
              "      <td>False</td>\n",
              "      <td>False</td>\n",
              "      <td>False</td>\n",
              "      <td>True</td>\n",
              "      <td>True</td>\n",
              "      <td>True</td>\n",
              "      <td>True</td>\n",
              "      <td>True</td>\n",
              "      <td>False</td>\n",
              "      <td>False</td>\n",
              "      <td>False</td>\n",
              "      <td>True</td>\n",
              "      <td>True</td>\n",
              "      <td>True</td>\n",
              "      <td>True</td>\n",
              "      <td>True</td>\n",
              "      <td>True</td>\n",
              "      <td>-0.7347</td>\n",
              "      <td>-0.2261</td>\n",
              "      <td>-0.1971</td>\n",
              "      <td>-0.0986</td>\n",
              "      <td>-0.3844</td>\n",
              "      <td>-0.1234</td>\n",
              "      <td>0.1416</td>\n",
              "      <td>-0.7347</td>\n",
              "      <td>-0.7118</td>\n",
              "      <td>-0.7110</td>\n",
              "      <td>-0.6642</td>\n",
              "      <td>-0.6649</td>\n",
              "      <td>-0.6650</td>\n",
              "      <td>-0.6609</td>\n",
              "      <td>-0.6619</td>\n",
              "      <td>-0.1251</td>\n",
              "      <td>-0.1220</td>\n",
              "      <td>-0.1198</td>\n",
              "      <td>-0.1184</td>\n",
              "      <td>-0.1141</td>\n",
              "      <td>-0.1109</td>\n",
              "      <td>-0.1087</td>\n",
              "      <td>-0.1033</td>\n",
              "      <td>-0.1048</td>\n",
              "    </tr>\n",
              "    <tr>\n",
              "      <th>3</th>\n",
              "      <td>Browsing</td>\n",
              "      <td>DoH</td>\n",
              "      <td>7.62</td>\n",
              "      <td>0.00</td>\n",
              "      <td>TLSv1.3</td>\n",
              "      <td>False</td>\n",
              "      <td>#na#</td>\n",
              "      <td>Data</td>\n",
              "      <td>TLSv1.3</td>\n",
              "      <td>TLSv1.3</td>\n",
              "      <td>TCP</td>\n",
              "      <td>TLSv1.3</td>\n",
              "      <td>TLSv1.3</td>\n",
              "      <td>TLSv1.3</td>\n",
              "      <td>TLSv1.3</td>\n",
              "      <td>TCP</td>\n",
              "      <td>TLSv1.3</td>\n",
              "      <td>True</td>\n",
              "      <td>False</td>\n",
              "      <td>False</td>\n",
              "      <td>True</td>\n",
              "      <td>True</td>\n",
              "      <td>True</td>\n",
              "      <td>True</td>\n",
              "      <td>True</td>\n",
              "      <td>False</td>\n",
              "      <td>True</td>\n",
              "      <td>True</td>\n",
              "      <td>True</td>\n",
              "      <td>True</td>\n",
              "      <td>False</td>\n",
              "      <td>False</td>\n",
              "      <td>False</td>\n",
              "      <td>False</td>\n",
              "      <td>False</td>\n",
              "      <td>False</td>\n",
              "      <td>False</td>\n",
              "      <td>False</td>\n",
              "      <td>False</td>\n",
              "      <td>False</td>\n",
              "      <td>False</td>\n",
              "      <td>False</td>\n",
              "      <td>False</td>\n",
              "      <td>False</td>\n",
              "      <td>False</td>\n",
              "      <td>False</td>\n",
              "      <td>False</td>\n",
              "      <td>False</td>\n",
              "      <td>False</td>\n",
              "      <td>-0.1461</td>\n",
              "      <td>-0.2195</td>\n",
              "      <td>-0.1927</td>\n",
              "      <td>-0.0504</td>\n",
              "      <td>-0.3844</td>\n",
              "      <td>-0.1234</td>\n",
              "      <td>-0.6795</td>\n",
              "      <td>0.1715</td>\n",
              "      <td>-0.7220</td>\n",
              "      <td>-0.4621</td>\n",
              "      <td>-0.5186</td>\n",
              "      <td>-0.5853</td>\n",
              "      <td>-0.6227</td>\n",
              "      <td>-0.7270</td>\n",
              "      <td>0.6591</td>\n",
              "      <td>-0.1255</td>\n",
              "      <td>-0.1220</td>\n",
              "      <td>-0.1131</td>\n",
              "      <td>-0.1184</td>\n",
              "      <td>-0.1141</td>\n",
              "      <td>-0.1109</td>\n",
              "      <td>-0.1077</td>\n",
              "      <td>-0.1033</td>\n",
              "      <td>-0.1048</td>\n",
              "    </tr>\n",
              "    <tr>\n",
              "      <th>4</th>\n",
              "      <td>Browsing</td>\n",
              "      <td>Exfiltration</td>\n",
              "      <td>7.28</td>\n",
              "      <td>0.00</td>\n",
              "      <td>TLSv1.3</td>\n",
              "      <td>False</td>\n",
              "      <td>#na#</td>\n",
              "      <td>Spec</td>\n",
              "      <td>TCP</td>\n",
              "      <td>TLSv1.3</td>\n",
              "      <td>TCP</td>\n",
              "      <td>TCP</td>\n",
              "      <td>TCP</td>\n",
              "      <td>#na#</td>\n",
              "      <td>#na#</td>\n",
              "      <td>#na#</td>\n",
              "      <td>#na#</td>\n",
              "      <td>False</td>\n",
              "      <td>True</td>\n",
              "      <td>True</td>\n",
              "      <td>False</td>\n",
              "      <td>True</td>\n",
              "      <td>#na#</td>\n",
              "      <td>#na#</td>\n",
              "      <td>#na#</td>\n",
              "      <td>#na#</td>\n",
              "      <td>True</td>\n",
              "      <td>True</td>\n",
              "      <td>True</td>\n",
              "      <td>True</td>\n",
              "      <td>False</td>\n",
              "      <td>False</td>\n",
              "      <td>False</td>\n",
              "      <td>False</td>\n",
              "      <td>False</td>\n",
              "      <td>False</td>\n",
              "      <td>True</td>\n",
              "      <td>True</td>\n",
              "      <td>True</td>\n",
              "      <td>True</td>\n",
              "      <td>False</td>\n",
              "      <td>False</td>\n",
              "      <td>False</td>\n",
              "      <td>False</td>\n",
              "      <td>True</td>\n",
              "      <td>True</td>\n",
              "      <td>True</td>\n",
              "      <td>True</td>\n",
              "      <td>True</td>\n",
              "      <td>1.7279</td>\n",
              "      <td>-0.2195</td>\n",
              "      <td>-0.1927</td>\n",
              "      <td>-0.0504</td>\n",
              "      <td>-0.3844</td>\n",
              "      <td>-0.1193</td>\n",
              "      <td>-0.7217</td>\n",
              "      <td>0.1378</td>\n",
              "      <td>-0.7321</td>\n",
              "      <td>-0.7212</td>\n",
              "      <td>-0.6964</td>\n",
              "      <td>-0.6649</td>\n",
              "      <td>-0.6650</td>\n",
              "      <td>-0.6609</td>\n",
              "      <td>-0.6619</td>\n",
              "      <td>-0.1255</td>\n",
              "      <td>-0.1220</td>\n",
              "      <td>-0.1201</td>\n",
              "      <td>-0.1141</td>\n",
              "      <td>-0.1141</td>\n",
              "      <td>-0.1109</td>\n",
              "      <td>-0.1087</td>\n",
              "      <td>-0.1033</td>\n",
              "      <td>-0.1048</td>\n",
              "    </tr>\n",
              "    <tr>\n",
              "      <th>5</th>\n",
              "      <td>Browsing</td>\n",
              "      <td>Exfiltration</td>\n",
              "      <td>7.28</td>\n",
              "      <td>0.00</td>\n",
              "      <td>TLSv1.3</td>\n",
              "      <td>False</td>\n",
              "      <td>#na#</td>\n",
              "      <td>Spec</td>\n",
              "      <td>TCP</td>\n",
              "      <td>TLSv1.3</td>\n",
              "      <td>TCP</td>\n",
              "      <td>TCP</td>\n",
              "      <td>TCP</td>\n",
              "      <td>#na#</td>\n",
              "      <td>#na#</td>\n",
              "      <td>#na#</td>\n",
              "      <td>#na#</td>\n",
              "      <td>False</td>\n",
              "      <td>True</td>\n",
              "      <td>True</td>\n",
              "      <td>False</td>\n",
              "      <td>True</td>\n",
              "      <td>#na#</td>\n",
              "      <td>#na#</td>\n",
              "      <td>#na#</td>\n",
              "      <td>#na#</td>\n",
              "      <td>True</td>\n",
              "      <td>True</td>\n",
              "      <td>True</td>\n",
              "      <td>True</td>\n",
              "      <td>False</td>\n",
              "      <td>False</td>\n",
              "      <td>False</td>\n",
              "      <td>False</td>\n",
              "      <td>False</td>\n",
              "      <td>False</td>\n",
              "      <td>True</td>\n",
              "      <td>True</td>\n",
              "      <td>True</td>\n",
              "      <td>True</td>\n",
              "      <td>False</td>\n",
              "      <td>False</td>\n",
              "      <td>False</td>\n",
              "      <td>False</td>\n",
              "      <td>True</td>\n",
              "      <td>True</td>\n",
              "      <td>True</td>\n",
              "      <td>True</td>\n",
              "      <td>True</td>\n",
              "      <td>1.7279</td>\n",
              "      <td>-0.2195</td>\n",
              "      <td>-0.1927</td>\n",
              "      <td>-0.0504</td>\n",
              "      <td>-0.3844</td>\n",
              "      <td>-0.1194</td>\n",
              "      <td>-0.7217</td>\n",
              "      <td>0.1378</td>\n",
              "      <td>-0.7321</td>\n",
              "      <td>-0.7212</td>\n",
              "      <td>-0.6964</td>\n",
              "      <td>-0.6649</td>\n",
              "      <td>-0.6650</td>\n",
              "      <td>-0.6609</td>\n",
              "      <td>-0.6619</td>\n",
              "      <td>-0.1255</td>\n",
              "      <td>-0.1219</td>\n",
              "      <td>-0.1201</td>\n",
              "      <td>-0.1142</td>\n",
              "      <td>-0.1141</td>\n",
              "      <td>-0.1109</td>\n",
              "      <td>-0.1087</td>\n",
              "      <td>-0.1033</td>\n",
              "      <td>-0.1048</td>\n",
              "    </tr>\n",
              "    <tr>\n",
              "      <th>6</th>\n",
              "      <td>Browsing</td>\n",
              "      <td>Exfiltration</td>\n",
              "      <td>7.28</td>\n",
              "      <td>0.00</td>\n",
              "      <td>TLSv1.3</td>\n",
              "      <td>False</td>\n",
              "      <td>#na#</td>\n",
              "      <td>Spec</td>\n",
              "      <td>TCP</td>\n",
              "      <td>TLSv1.3</td>\n",
              "      <td>TCP</td>\n",
              "      <td>TCP</td>\n",
              "      <td>TCP</td>\n",
              "      <td>#na#</td>\n",
              "      <td>#na#</td>\n",
              "      <td>#na#</td>\n",
              "      <td>#na#</td>\n",
              "      <td>False</td>\n",
              "      <td>True</td>\n",
              "      <td>True</td>\n",
              "      <td>False</td>\n",
              "      <td>True</td>\n",
              "      <td>#na#</td>\n",
              "      <td>#na#</td>\n",
              "      <td>#na#</td>\n",
              "      <td>#na#</td>\n",
              "      <td>True</td>\n",
              "      <td>True</td>\n",
              "      <td>True</td>\n",
              "      <td>True</td>\n",
              "      <td>False</td>\n",
              "      <td>False</td>\n",
              "      <td>False</td>\n",
              "      <td>False</td>\n",
              "      <td>False</td>\n",
              "      <td>False</td>\n",
              "      <td>True</td>\n",
              "      <td>True</td>\n",
              "      <td>True</td>\n",
              "      <td>True</td>\n",
              "      <td>False</td>\n",
              "      <td>False</td>\n",
              "      <td>False</td>\n",
              "      <td>False</td>\n",
              "      <td>True</td>\n",
              "      <td>True</td>\n",
              "      <td>True</td>\n",
              "      <td>True</td>\n",
              "      <td>True</td>\n",
              "      <td>1.7279</td>\n",
              "      <td>-0.2195</td>\n",
              "      <td>-0.1927</td>\n",
              "      <td>-0.0504</td>\n",
              "      <td>-0.3844</td>\n",
              "      <td>-0.1198</td>\n",
              "      <td>-0.7217</td>\n",
              "      <td>0.1378</td>\n",
              "      <td>-0.7321</td>\n",
              "      <td>-0.7212</td>\n",
              "      <td>-0.6964</td>\n",
              "      <td>-0.6649</td>\n",
              "      <td>-0.6650</td>\n",
              "      <td>-0.6609</td>\n",
              "      <td>-0.6619</td>\n",
              "      <td>-0.1255</td>\n",
              "      <td>-0.1220</td>\n",
              "      <td>-0.1201</td>\n",
              "      <td>-0.1148</td>\n",
              "      <td>-0.1141</td>\n",
              "      <td>-0.1109</td>\n",
              "      <td>-0.1087</td>\n",
              "      <td>-0.1033</td>\n",
              "      <td>-0.1048</td>\n",
              "    </tr>\n",
              "    <tr>\n",
              "      <th>7</th>\n",
              "      <td>Browsing</td>\n",
              "      <td>DoH</td>\n",
              "      <td>5.12</td>\n",
              "      <td>0.01</td>\n",
              "      <td>TCP</td>\n",
              "      <td>False</td>\n",
              "      <td>[ACK]</td>\n",
              "      <td>Len=</td>\n",
              "      <td>TCP</td>\n",
              "      <td>TLSv1.2</td>\n",
              "      <td>TCP</td>\n",
              "      <td>TCP</td>\n",
              "      <td>TCP</td>\n",
              "      <td>TCP</td>\n",
              "      <td>TCP</td>\n",
              "      <td>TCP</td>\n",
              "      <td>TCP</td>\n",
              "      <td>False</td>\n",
              "      <td>False</td>\n",
              "      <td>False</td>\n",
              "      <td>False</td>\n",
              "      <td>True</td>\n",
              "      <td>True</td>\n",
              "      <td>True</td>\n",
              "      <td>True</td>\n",
              "      <td>True</td>\n",
              "      <td>False</td>\n",
              "      <td>False</td>\n",
              "      <td>False</td>\n",
              "      <td>False</td>\n",
              "      <td>False</td>\n",
              "      <td>False</td>\n",
              "      <td>False</td>\n",
              "      <td>False</td>\n",
              "      <td>False</td>\n",
              "      <td>False</td>\n",
              "      <td>False</td>\n",
              "      <td>False</td>\n",
              "      <td>False</td>\n",
              "      <td>False</td>\n",
              "      <td>False</td>\n",
              "      <td>False</td>\n",
              "      <td>False</td>\n",
              "      <td>False</td>\n",
              "      <td>False</td>\n",
              "      <td>False</td>\n",
              "      <td>False</td>\n",
              "      <td>False</td>\n",
              "      <td>False</td>\n",
              "      <td>-0.7246</td>\n",
              "      <td>0.0403</td>\n",
              "      <td>0.0329</td>\n",
              "      <td>-0.1131</td>\n",
              "      <td>-0.3844</td>\n",
              "      <td>-0.1236</td>\n",
              "      <td>-0.7217</td>\n",
              "      <td>-0.6688</td>\n",
              "      <td>-0.7220</td>\n",
              "      <td>-0.7212</td>\n",
              "      <td>0.1776</td>\n",
              "      <td>0.1768</td>\n",
              "      <td>0.4467</td>\n",
              "      <td>0.4529</td>\n",
              "      <td>0.4508</td>\n",
              "      <td>-0.1255</td>\n",
              "      <td>-0.1220</td>\n",
              "      <td>-0.1201</td>\n",
              "      <td>-0.0804</td>\n",
              "      <td>0.0297</td>\n",
              "      <td>0.0356</td>\n",
              "      <td>-0.0355</td>\n",
              "      <td>-0.0664</td>\n",
              "      <td>-0.0714</td>\n",
              "    </tr>\n",
              "    <tr>\n",
              "      <th>8</th>\n",
              "      <td>Browsing</td>\n",
              "      <td>DoH</td>\n",
              "      <td>4.95</td>\n",
              "      <td>0.01</td>\n",
              "      <td>TCP</td>\n",
              "      <td>False</td>\n",
              "      <td>[ACK]</td>\n",
              "      <td>Len=</td>\n",
              "      <td>TCP</td>\n",
              "      <td>TLSv1.2</td>\n",
              "      <td>TCP</td>\n",
              "      <td>TCP</td>\n",
              "      <td>TLSv1.2</td>\n",
              "      <td>TCP</td>\n",
              "      <td>TLSv1.2</td>\n",
              "      <td>TCP</td>\n",
              "      <td>TLSv1.2</td>\n",
              "      <td>True</td>\n",
              "      <td>True</td>\n",
              "      <td>False</td>\n",
              "      <td>True</td>\n",
              "      <td>False</td>\n",
              "      <td>True</td>\n",
              "      <td>True</td>\n",
              "      <td>False</td>\n",
              "      <td>False</td>\n",
              "      <td>False</td>\n",
              "      <td>False</td>\n",
              "      <td>False</td>\n",
              "      <td>False</td>\n",
              "      <td>False</td>\n",
              "      <td>False</td>\n",
              "      <td>False</td>\n",
              "      <td>False</td>\n",
              "      <td>False</td>\n",
              "      <td>False</td>\n",
              "      <td>False</td>\n",
              "      <td>False</td>\n",
              "      <td>False</td>\n",
              "      <td>False</td>\n",
              "      <td>False</td>\n",
              "      <td>False</td>\n",
              "      <td>False</td>\n",
              "      <td>False</td>\n",
              "      <td>False</td>\n",
              "      <td>False</td>\n",
              "      <td>False</td>\n",
              "      <td>False</td>\n",
              "      <td>False</td>\n",
              "      <td>-0.7347</td>\n",
              "      <td>-0.2231</td>\n",
              "      <td>-0.1971</td>\n",
              "      <td>-0.0986</td>\n",
              "      <td>-0.3844</td>\n",
              "      <td>-0.1235</td>\n",
              "      <td>-0.7319</td>\n",
              "      <td>-0.7228</td>\n",
              "      <td>-0.7321</td>\n",
              "      <td>-0.7313</td>\n",
              "      <td>0.4283</td>\n",
              "      <td>-0.7310</td>\n",
              "      <td>-0.7191</td>\n",
              "      <td>-0.7270</td>\n",
              "      <td>0.4305</td>\n",
              "      <td>-0.1255</td>\n",
              "      <td>-0.1220</td>\n",
              "      <td>-0.1200</td>\n",
              "      <td>-0.1183</td>\n",
              "      <td>-0.1141</td>\n",
              "      <td>-0.1108</td>\n",
              "      <td>-0.1087</td>\n",
              "      <td>-0.1033</td>\n",
              "      <td>-0.1048</td>\n",
              "    </tr>\n",
              "    <tr>\n",
              "      <th>9</th>\n",
              "      <td>Browsing</td>\n",
              "      <td>DoH</td>\n",
              "      <td>4.67</td>\n",
              "      <td>0.01</td>\n",
              "      <td>TCP</td>\n",
              "      <td>False</td>\n",
              "      <td>[ACK]</td>\n",
              "      <td>Len=</td>\n",
              "      <td>TLSv1.2</td>\n",
              "      <td>TCP</td>\n",
              "      <td>TCP</td>\n",
              "      <td>TLSv1.2</td>\n",
              "      <td>TLSv1.2</td>\n",
              "      <td>TLSv1.2</td>\n",
              "      <td>TLSv1.2</td>\n",
              "      <td>TCP</td>\n",
              "      <td>TLSv1.2</td>\n",
              "      <td>True</td>\n",
              "      <td>True</td>\n",
              "      <td>True</td>\n",
              "      <td>False</td>\n",
              "      <td>True</td>\n",
              "      <td>True</td>\n",
              "      <td>True</td>\n",
              "      <td>False</td>\n",
              "      <td>True</td>\n",
              "      <td>False</td>\n",
              "      <td>False</td>\n",
              "      <td>False</td>\n",
              "      <td>False</td>\n",
              "      <td>False</td>\n",
              "      <td>False</td>\n",
              "      <td>False</td>\n",
              "      <td>False</td>\n",
              "      <td>False</td>\n",
              "      <td>False</td>\n",
              "      <td>False</td>\n",
              "      <td>False</td>\n",
              "      <td>False</td>\n",
              "      <td>False</td>\n",
              "      <td>False</td>\n",
              "      <td>False</td>\n",
              "      <td>False</td>\n",
              "      <td>False</td>\n",
              "      <td>False</td>\n",
              "      <td>False</td>\n",
              "      <td>False</td>\n",
              "      <td>False</td>\n",
              "      <td>False</td>\n",
              "      <td>-0.7347</td>\n",
              "      <td>-0.2261</td>\n",
              "      <td>-0.1971</td>\n",
              "      <td>-0.0986</td>\n",
              "      <td>-0.3844</td>\n",
              "      <td>-0.1236</td>\n",
              "      <td>-0.7201</td>\n",
              "      <td>-0.7347</td>\n",
              "      <td>-0.7321</td>\n",
              "      <td>0.4269</td>\n",
              "      <td>0.1454</td>\n",
              "      <td>0.1446</td>\n",
              "      <td>-0.7191</td>\n",
              "      <td>-0.7270</td>\n",
              "      <td>-0.7160</td>\n",
              "      <td>-0.1255</td>\n",
              "      <td>-0.1220</td>\n",
              "      <td>-0.1201</td>\n",
              "      <td>-0.1184</td>\n",
              "      <td>-0.1141</td>\n",
              "      <td>-0.1109</td>\n",
              "      <td>-0.1087</td>\n",
              "      <td>-0.1033</td>\n",
              "      <td>-0.1047</td>\n",
              "    </tr>\n",
              "  </tbody>\n",
              "</table>\n",
              "</div>"
            ],
            "text/plain": [
              "  Prediction        Actual  ... Conversation_dT_T-8 Conversation_dT_T-9\n",
              "0   Browsing           DoH  ...             -0.1033             -0.1048\n",
              "1   Browsing           DoH  ...             -0.1033             -0.1048\n",
              "2   Browsing           DoH  ...             -0.1033             -0.1048\n",
              "3   Browsing           DoH  ...             -0.1033             -0.1048\n",
              "4   Browsing  Exfiltration  ...             -0.1033             -0.1048\n",
              "5   Browsing  Exfiltration  ...             -0.1033             -0.1048\n",
              "6   Browsing  Exfiltration  ...             -0.1033             -0.1048\n",
              "7   Browsing           DoH  ...             -0.0664             -0.0714\n",
              "8   Browsing           DoH  ...             -0.1033             -0.1048\n",
              "9   Browsing           DoH  ...             -0.1033             -0.1047\n",
              "\n",
              "[10 rows x 73 columns]"
            ]
          },
          "metadata": {
            "tags": []
          }
        }
      ]
    },
    {
      "cell_type": "markdown",
      "metadata": {
        "id": "TUWj_Mv-3TwD",
        "colab_type": "text"
      },
      "source": [
        "# Feature Importance"
      ]
    },
    {
      "cell_type": "code",
      "metadata": {
        "id": "oGLRrbbprWE3",
        "colab_type": "code",
        "colab": {}
      },
      "source": [
        "# Thanks Zach Mueller!\n",
        "\n",
        "def feature_importance(learn:Learner, dep_var:str, test:DataFrame):\n",
        "  pd.options.mode.chained_assignment= None # Gets rid of annoying warning\n",
        "  \n",
        "  data = learn.data\n",
        "  cats = [x for x in data.cat_names if '_na' not in x]\n",
        "  conts = data.cont_names\n",
        "  procs = data.procs\n",
        "  \n",
        "  dt = (TabularList.from_df(test, path='', cat_names=cats.copy(), cont_names=conts.copy(),\n",
        "                           procs=procs)\n",
        "       .split_none()\n",
        "       .label_from_df(cols=dep_var))\n",
        "  dt.valid = dt.train\n",
        "  dt = dt.databunch()\n",
        "  \n",
        "  learn.data.valid_dl = dt.valid_dl\n",
        "  loss0 = float(learn.validate()[1])\n",
        "  \n",
        "  types = [cats, conts]\n",
        "  \n",
        "  fi = dict()\n",
        "  for j, t in enumerate(types):\n",
        "    for i, c in enumerate(t):\n",
        "      #print(c)\n",
        "      base = test.copy()\n",
        "      base[c] = base[c].sample(n=len(base), replace=True).reset_index(drop=True)\n",
        "      \n",
        "      \n",
        "      dt = (TabularList.from_df(base, path='', cat_names=cats.copy(), cont_names=conts.copy(),\n",
        "                         procs=procs)\n",
        "       .split_none()\n",
        "       .label_from_df(cols=dep_var))\n",
        "      dt.valid = dt.train\n",
        "      dt = dt.databunch()\n",
        "      \n",
        "      learn.data.valid_dl = dt.valid_dl\n",
        "      fi[c] = float(learn.validate()[1]) - loss0\n",
        "  \n",
        "  d = sorted(fi.items(), key=lambda kv: kv[1])\n",
        "  df = pd.DataFrame({'Variable': [l for l, v in d], u'Δ Accuracy': [v for l, v in d]})\n",
        "  df['Type'] = ''\n",
        "  for x in range(len(df)):\n",
        "    if df['Variable'].iloc[x] in cats:\n",
        "      df['Type'].iloc[x] = 'categorical'\n",
        "    else:\n",
        "      df['Type'].iloc[x] = 'continuous'\n",
        "  return df"
      ],
      "execution_count": null,
      "outputs": []
    },
    {
      "cell_type": "code",
      "metadata": {
        "id": "PjaFXeWIPqBQ",
        "colab_type": "code",
        "colab": {}
      },
      "source": [
        "df_unknown = pd.read_csv(path + 'feature-engineered/' + 'unknown-1-FE.csv')"
      ],
      "execution_count": null,
      "outputs": []
    },
    {
      "cell_type": "code",
      "metadata": {
        "id": "mZlWejql3XZ7",
        "colab_type": "code",
        "colab": {
          "base_uri": "https://localhost:8080/",
          "height": 1000
        },
        "outputId": "53954ab1-ed53-48a9-b301-ce08bfbfd822"
      },
      "source": [
        "feature_importance(learn, dep_var, df_unknown)"
      ],
      "execution_count": null,
      "outputs": [
        {
          "output_type": "display_data",
          "data": {
            "text/html": [
              ""
            ],
            "text/plain": [
              "<IPython.core.display.HTML object>"
            ]
          },
          "metadata": {
            "tags": []
          }
        },
        {
          "output_type": "display_data",
          "data": {
            "text/html": [
              ""
            ],
            "text/plain": [
              "<IPython.core.display.HTML object>"
            ]
          },
          "metadata": {
            "tags": []
          }
        },
        {
          "output_type": "display_data",
          "data": {
            "text/html": [
              ""
            ],
            "text/plain": [
              "<IPython.core.display.HTML object>"
            ]
          },
          "metadata": {
            "tags": []
          }
        },
        {
          "output_type": "display_data",
          "data": {
            "text/html": [
              ""
            ],
            "text/plain": [
              "<IPython.core.display.HTML object>"
            ]
          },
          "metadata": {
            "tags": []
          }
        },
        {
          "output_type": "display_data",
          "data": {
            "text/html": [
              ""
            ],
            "text/plain": [
              "<IPython.core.display.HTML object>"
            ]
          },
          "metadata": {
            "tags": []
          }
        },
        {
          "output_type": "display_data",
          "data": {
            "text/html": [
              ""
            ],
            "text/plain": [
              "<IPython.core.display.HTML object>"
            ]
          },
          "metadata": {
            "tags": []
          }
        },
        {
          "output_type": "display_data",
          "data": {
            "text/html": [
              ""
            ],
            "text/plain": [
              "<IPython.core.display.HTML object>"
            ]
          },
          "metadata": {
            "tags": []
          }
        },
        {
          "output_type": "display_data",
          "data": {
            "text/html": [
              ""
            ],
            "text/plain": [
              "<IPython.core.display.HTML object>"
            ]
          },
          "metadata": {
            "tags": []
          }
        },
        {
          "output_type": "display_data",
          "data": {
            "text/html": [
              ""
            ],
            "text/plain": [
              "<IPython.core.display.HTML object>"
            ]
          },
          "metadata": {
            "tags": []
          }
        },
        {
          "output_type": "display_data",
          "data": {
            "text/html": [
              ""
            ],
            "text/plain": [
              "<IPython.core.display.HTML object>"
            ]
          },
          "metadata": {
            "tags": []
          }
        },
        {
          "output_type": "display_data",
          "data": {
            "text/html": [
              ""
            ],
            "text/plain": [
              "<IPython.core.display.HTML object>"
            ]
          },
          "metadata": {
            "tags": []
          }
        },
        {
          "output_type": "display_data",
          "data": {
            "text/html": [
              ""
            ],
            "text/plain": [
              "<IPython.core.display.HTML object>"
            ]
          },
          "metadata": {
            "tags": []
          }
        },
        {
          "output_type": "display_data",
          "data": {
            "text/html": [
              ""
            ],
            "text/plain": [
              "<IPython.core.display.HTML object>"
            ]
          },
          "metadata": {
            "tags": []
          }
        },
        {
          "output_type": "display_data",
          "data": {
            "text/html": [
              ""
            ],
            "text/plain": [
              "<IPython.core.display.HTML object>"
            ]
          },
          "metadata": {
            "tags": []
          }
        },
        {
          "output_type": "display_data",
          "data": {
            "text/html": [
              ""
            ],
            "text/plain": [
              "<IPython.core.display.HTML object>"
            ]
          },
          "metadata": {
            "tags": []
          }
        },
        {
          "output_type": "display_data",
          "data": {
            "text/html": [
              ""
            ],
            "text/plain": [
              "<IPython.core.display.HTML object>"
            ]
          },
          "metadata": {
            "tags": []
          }
        },
        {
          "output_type": "display_data",
          "data": {
            "text/html": [
              ""
            ],
            "text/plain": [
              "<IPython.core.display.HTML object>"
            ]
          },
          "metadata": {
            "tags": []
          }
        },
        {
          "output_type": "display_data",
          "data": {
            "text/html": [
              ""
            ],
            "text/plain": [
              "<IPython.core.display.HTML object>"
            ]
          },
          "metadata": {
            "tags": []
          }
        },
        {
          "output_type": "display_data",
          "data": {
            "text/html": [
              ""
            ],
            "text/plain": [
              "<IPython.core.display.HTML object>"
            ]
          },
          "metadata": {
            "tags": []
          }
        },
        {
          "output_type": "display_data",
          "data": {
            "text/html": [
              ""
            ],
            "text/plain": [
              "<IPython.core.display.HTML object>"
            ]
          },
          "metadata": {
            "tags": []
          }
        },
        {
          "output_type": "display_data",
          "data": {
            "text/html": [
              ""
            ],
            "text/plain": [
              "<IPython.core.display.HTML object>"
            ]
          },
          "metadata": {
            "tags": []
          }
        },
        {
          "output_type": "display_data",
          "data": {
            "text/html": [
              ""
            ],
            "text/plain": [
              "<IPython.core.display.HTML object>"
            ]
          },
          "metadata": {
            "tags": []
          }
        },
        {
          "output_type": "display_data",
          "data": {
            "text/html": [
              ""
            ],
            "text/plain": [
              "<IPython.core.display.HTML object>"
            ]
          },
          "metadata": {
            "tags": []
          }
        },
        {
          "output_type": "display_data",
          "data": {
            "text/html": [
              ""
            ],
            "text/plain": [
              "<IPython.core.display.HTML object>"
            ]
          },
          "metadata": {
            "tags": []
          }
        },
        {
          "output_type": "display_data",
          "data": {
            "text/html": [
              ""
            ],
            "text/plain": [
              "<IPython.core.display.HTML object>"
            ]
          },
          "metadata": {
            "tags": []
          }
        },
        {
          "output_type": "display_data",
          "data": {
            "text/html": [
              ""
            ],
            "text/plain": [
              "<IPython.core.display.HTML object>"
            ]
          },
          "metadata": {
            "tags": []
          }
        },
        {
          "output_type": "display_data",
          "data": {
            "text/html": [
              ""
            ],
            "text/plain": [
              "<IPython.core.display.HTML object>"
            ]
          },
          "metadata": {
            "tags": []
          }
        },
        {
          "output_type": "display_data",
          "data": {
            "text/html": [
              ""
            ],
            "text/plain": [
              "<IPython.core.display.HTML object>"
            ]
          },
          "metadata": {
            "tags": []
          }
        },
        {
          "output_type": "display_data",
          "data": {
            "text/html": [
              ""
            ],
            "text/plain": [
              "<IPython.core.display.HTML object>"
            ]
          },
          "metadata": {
            "tags": []
          }
        },
        {
          "output_type": "display_data",
          "data": {
            "text/html": [
              ""
            ],
            "text/plain": [
              "<IPython.core.display.HTML object>"
            ]
          },
          "metadata": {
            "tags": []
          }
        },
        {
          "output_type": "display_data",
          "data": {
            "text/html": [
              ""
            ],
            "text/plain": [
              "<IPython.core.display.HTML object>"
            ]
          },
          "metadata": {
            "tags": []
          }
        },
        {
          "output_type": "display_data",
          "data": {
            "text/html": [
              ""
            ],
            "text/plain": [
              "<IPython.core.display.HTML object>"
            ]
          },
          "metadata": {
            "tags": []
          }
        },
        {
          "output_type": "display_data",
          "data": {
            "text/html": [
              ""
            ],
            "text/plain": [
              "<IPython.core.display.HTML object>"
            ]
          },
          "metadata": {
            "tags": []
          }
        },
        {
          "output_type": "display_data",
          "data": {
            "text/html": [
              ""
            ],
            "text/plain": [
              "<IPython.core.display.HTML object>"
            ]
          },
          "metadata": {
            "tags": []
          }
        },
        {
          "output_type": "display_data",
          "data": {
            "text/html": [
              ""
            ],
            "text/plain": [
              "<IPython.core.display.HTML object>"
            ]
          },
          "metadata": {
            "tags": []
          }
        },
        {
          "output_type": "display_data",
          "data": {
            "text/html": [
              ""
            ],
            "text/plain": [
              "<IPython.core.display.HTML object>"
            ]
          },
          "metadata": {
            "tags": []
          }
        },
        {
          "output_type": "display_data",
          "data": {
            "text/html": [
              ""
            ],
            "text/plain": [
              "<IPython.core.display.HTML object>"
            ]
          },
          "metadata": {
            "tags": []
          }
        },
        {
          "output_type": "display_data",
          "data": {
            "text/html": [
              ""
            ],
            "text/plain": [
              "<IPython.core.display.HTML object>"
            ]
          },
          "metadata": {
            "tags": []
          }
        },
        {
          "output_type": "display_data",
          "data": {
            "text/html": [
              ""
            ],
            "text/plain": [
              "<IPython.core.display.HTML object>"
            ]
          },
          "metadata": {
            "tags": []
          }
        },
        {
          "output_type": "display_data",
          "data": {
            "text/html": [
              ""
            ],
            "text/plain": [
              "<IPython.core.display.HTML object>"
            ]
          },
          "metadata": {
            "tags": []
          }
        },
        {
          "output_type": "display_data",
          "data": {
            "text/html": [
              ""
            ],
            "text/plain": [
              "<IPython.core.display.HTML object>"
            ]
          },
          "metadata": {
            "tags": []
          }
        },
        {
          "output_type": "display_data",
          "data": {
            "text/html": [
              ""
            ],
            "text/plain": [
              "<IPython.core.display.HTML object>"
            ]
          },
          "metadata": {
            "tags": []
          }
        },
        {
          "output_type": "display_data",
          "data": {
            "text/html": [
              ""
            ],
            "text/plain": [
              "<IPython.core.display.HTML object>"
            ]
          },
          "metadata": {
            "tags": []
          }
        },
        {
          "output_type": "display_data",
          "data": {
            "text/html": [
              ""
            ],
            "text/plain": [
              "<IPython.core.display.HTML object>"
            ]
          },
          "metadata": {
            "tags": []
          }
        },
        {
          "output_type": "display_data",
          "data": {
            "text/html": [
              ""
            ],
            "text/plain": [
              "<IPython.core.display.HTML object>"
            ]
          },
          "metadata": {
            "tags": []
          }
        },
        {
          "output_type": "display_data",
          "data": {
            "text/html": [
              ""
            ],
            "text/plain": [
              "<IPython.core.display.HTML object>"
            ]
          },
          "metadata": {
            "tags": []
          }
        },
        {
          "output_type": "display_data",
          "data": {
            "text/html": [
              ""
            ],
            "text/plain": [
              "<IPython.core.display.HTML object>"
            ]
          },
          "metadata": {
            "tags": []
          }
        },
        {
          "output_type": "execute_result",
          "data": {
            "text/html": [
              "<div>\n",
              "<style scoped>\n",
              "    .dataframe tbody tr th:only-of-type {\n",
              "        vertical-align: middle;\n",
              "    }\n",
              "\n",
              "    .dataframe tbody tr th {\n",
              "        vertical-align: top;\n",
              "    }\n",
              "\n",
              "    .dataframe thead th {\n",
              "        text-align: right;\n",
              "    }\n",
              "</style>\n",
              "<table border=\"1\" class=\"dataframe\">\n",
              "  <thead>\n",
              "    <tr style=\"text-align: right;\">\n",
              "      <th></th>\n",
              "      <th>Variable</th>\n",
              "      <th>Δ Accuracy</th>\n",
              "      <th>Type</th>\n",
              "    </tr>\n",
              "  </thead>\n",
              "  <tbody>\n",
              "    <tr>\n",
              "      <th>0</th>\n",
              "      <td>Conversation_Protocol_T-2</td>\n",
              "      <td>-0.014991</td>\n",
              "      <td>categorical</td>\n",
              "    </tr>\n",
              "    <tr>\n",
              "      <th>1</th>\n",
              "      <td>Conversation_Protocol_T-1</td>\n",
              "      <td>-0.012633</td>\n",
              "      <td>categorical</td>\n",
              "    </tr>\n",
              "    <tr>\n",
              "      <th>2</th>\n",
              "      <td>Conversation_Length_T-5</td>\n",
              "      <td>-0.010780</td>\n",
              "      <td>continuous</td>\n",
              "    </tr>\n",
              "    <tr>\n",
              "      <th>3</th>\n",
              "      <td>Conversation_Protocol_T-7</td>\n",
              "      <td>-0.008590</td>\n",
              "      <td>categorical</td>\n",
              "    </tr>\n",
              "    <tr>\n",
              "      <th>4</th>\n",
              "      <td>Conversation_Length_T-9</td>\n",
              "      <td>-0.007580</td>\n",
              "      <td>continuous</td>\n",
              "    </tr>\n",
              "    <tr>\n",
              "      <th>5</th>\n",
              "      <td>Conversation_Protocol_T-4</td>\n",
              "      <td>-0.007243</td>\n",
              "      <td>categorical</td>\n",
              "    </tr>\n",
              "    <tr>\n",
              "      <th>6</th>\n",
              "      <td>Conversation_Protocol_T-5</td>\n",
              "      <td>-0.007243</td>\n",
              "      <td>categorical</td>\n",
              "    </tr>\n",
              "    <tr>\n",
              "      <th>7</th>\n",
              "      <td>Conversation_Protocol_T-3</td>\n",
              "      <td>-0.006232</td>\n",
              "      <td>categorical</td>\n",
              "    </tr>\n",
              "    <tr>\n",
              "      <th>8</th>\n",
              "      <td>Conversation_Length_T-6</td>\n",
              "      <td>-0.005053</td>\n",
              "      <td>continuous</td>\n",
              "    </tr>\n",
              "    <tr>\n",
              "      <th>9</th>\n",
              "      <td>Handshake</td>\n",
              "      <td>-0.004548</td>\n",
              "      <td>categorical</td>\n",
              "    </tr>\n",
              "    <tr>\n",
              "      <th>10</th>\n",
              "      <td>Conversation_Protocol_T-8</td>\n",
              "      <td>-0.004379</td>\n",
              "      <td>categorical</td>\n",
              "    </tr>\n",
              "    <tr>\n",
              "      <th>11</th>\n",
              "      <td>Conversation_Length_T-4</td>\n",
              "      <td>-0.004379</td>\n",
              "      <td>continuous</td>\n",
              "    </tr>\n",
              "    <tr>\n",
              "      <th>12</th>\n",
              "      <td>Win</td>\n",
              "      <td>-0.003537</td>\n",
              "      <td>continuous</td>\n",
              "    </tr>\n",
              "    <tr>\n",
              "      <th>13</th>\n",
              "      <td>Conversation_Protocol_T-6</td>\n",
              "      <td>-0.002863</td>\n",
              "      <td>categorical</td>\n",
              "    </tr>\n",
              "    <tr>\n",
              "      <th>14</th>\n",
              "      <td>Conversation_Length_T-8</td>\n",
              "      <td>-0.002527</td>\n",
              "      <td>continuous</td>\n",
              "    </tr>\n",
              "    <tr>\n",
              "      <th>15</th>\n",
              "      <td>Conversation_From_Target_T-6</td>\n",
              "      <td>-0.002358</td>\n",
              "      <td>categorical</td>\n",
              "    </tr>\n",
              "    <tr>\n",
              "      <th>16</th>\n",
              "      <td>Conversation_Length_T-3</td>\n",
              "      <td>-0.002021</td>\n",
              "      <td>continuous</td>\n",
              "    </tr>\n",
              "    <tr>\n",
              "      <th>17</th>\n",
              "      <td>Conversation_From_Target_T-2</td>\n",
              "      <td>-0.001179</td>\n",
              "      <td>categorical</td>\n",
              "    </tr>\n",
              "    <tr>\n",
              "      <th>18</th>\n",
              "      <td>Conversation_From_Target_T-8</td>\n",
              "      <td>-0.001179</td>\n",
              "      <td>categorical</td>\n",
              "    </tr>\n",
              "    <tr>\n",
              "      <th>19</th>\n",
              "      <td>Conversation_From_Target_T-9</td>\n",
              "      <td>-0.001179</td>\n",
              "      <td>categorical</td>\n",
              "    </tr>\n",
              "    <tr>\n",
              "      <th>20</th>\n",
              "      <td>From_Target</td>\n",
              "      <td>-0.000842</td>\n",
              "      <td>categorical</td>\n",
              "    </tr>\n",
              "    <tr>\n",
              "      <th>21</th>\n",
              "      <td>Conversation_Length_T-7</td>\n",
              "      <td>-0.000674</td>\n",
              "      <td>continuous</td>\n",
              "    </tr>\n",
              "    <tr>\n",
              "      <th>22</th>\n",
              "      <td>Conversation_dT_T-1</td>\n",
              "      <td>-0.000505</td>\n",
              "      <td>continuous</td>\n",
              "    </tr>\n",
              "    <tr>\n",
              "      <th>23</th>\n",
              "      <td>Conversation_dT_T-9</td>\n",
              "      <td>-0.000505</td>\n",
              "      <td>continuous</td>\n",
              "    </tr>\n",
              "    <tr>\n",
              "      <th>24</th>\n",
              "      <td>Conversation_Protocol_T-9</td>\n",
              "      <td>-0.000337</td>\n",
              "      <td>categorical</td>\n",
              "    </tr>\n",
              "    <tr>\n",
              "      <th>25</th>\n",
              "      <td>Conversation_From_Target_T-4</td>\n",
              "      <td>-0.000337</td>\n",
              "      <td>categorical</td>\n",
              "    </tr>\n",
              "    <tr>\n",
              "      <th>26</th>\n",
              "      <td>Conversation_dT_T-5</td>\n",
              "      <td>-0.000337</td>\n",
              "      <td>continuous</td>\n",
              "    </tr>\n",
              "    <tr>\n",
              "      <th>27</th>\n",
              "      <td>Conversation_dT_T-7</td>\n",
              "      <td>-0.000337</td>\n",
              "      <td>continuous</td>\n",
              "    </tr>\n",
              "    <tr>\n",
              "      <th>28</th>\n",
              "      <td>Conversation_dT_T-3</td>\n",
              "      <td>-0.000168</td>\n",
              "      <td>continuous</td>\n",
              "    </tr>\n",
              "    <tr>\n",
              "      <th>29</th>\n",
              "      <td>Conversation_dT_T-4</td>\n",
              "      <td>-0.000168</td>\n",
              "      <td>continuous</td>\n",
              "    </tr>\n",
              "    <tr>\n",
              "      <th>30</th>\n",
              "      <td>Conversation_dT_T-6</td>\n",
              "      <td>-0.000168</td>\n",
              "      <td>continuous</td>\n",
              "    </tr>\n",
              "    <tr>\n",
              "      <th>31</th>\n",
              "      <td>Conversation_From_Target_T-1</td>\n",
              "      <td>0.000000</td>\n",
              "      <td>categorical</td>\n",
              "    </tr>\n",
              "    <tr>\n",
              "      <th>32</th>\n",
              "      <td>Length</td>\n",
              "      <td>0.000337</td>\n",
              "      <td>continuous</td>\n",
              "    </tr>\n",
              "    <tr>\n",
              "      <th>33</th>\n",
              "      <td>Conversation_dT_T-2</td>\n",
              "      <td>0.000337</td>\n",
              "      <td>continuous</td>\n",
              "    </tr>\n",
              "    <tr>\n",
              "      <th>34</th>\n",
              "      <td>Conversation_dT</td>\n",
              "      <td>0.000505</td>\n",
              "      <td>continuous</td>\n",
              "    </tr>\n",
              "    <tr>\n",
              "      <th>35</th>\n",
              "      <td>Conversation_dT_T-8</td>\n",
              "      <td>0.000505</td>\n",
              "      <td>continuous</td>\n",
              "    </tr>\n",
              "    <tr>\n",
              "      <th>36</th>\n",
              "      <td>Conversation_Length_T-2</td>\n",
              "      <td>0.000674</td>\n",
              "      <td>continuous</td>\n",
              "    </tr>\n",
              "    <tr>\n",
              "      <th>37</th>\n",
              "      <td>Conversation_Length_T-1</td>\n",
              "      <td>0.000842</td>\n",
              "      <td>continuous</td>\n",
              "    </tr>\n",
              "    <tr>\n",
              "      <th>38</th>\n",
              "      <td>Conversation_From_Target_T-5</td>\n",
              "      <td>0.001011</td>\n",
              "      <td>categorical</td>\n",
              "    </tr>\n",
              "    <tr>\n",
              "      <th>39</th>\n",
              "      <td>Conversation_From_Target_T-7</td>\n",
              "      <td>0.001011</td>\n",
              "      <td>categorical</td>\n",
              "    </tr>\n",
              "    <tr>\n",
              "      <th>40</th>\n",
              "      <td>Conversation_From_Target_T-3</td>\n",
              "      <td>0.001684</td>\n",
              "      <td>categorical</td>\n",
              "    </tr>\n",
              "    <tr>\n",
              "      <th>41</th>\n",
              "      <td>Protocol</td>\n",
              "      <td>0.002527</td>\n",
              "      <td>categorical</td>\n",
              "    </tr>\n",
              "    <tr>\n",
              "      <th>42</th>\n",
              "      <td>Seq</td>\n",
              "      <td>0.002527</td>\n",
              "      <td>continuous</td>\n",
              "    </tr>\n",
              "    <tr>\n",
              "      <th>43</th>\n",
              "      <td>Len</td>\n",
              "      <td>0.002527</td>\n",
              "      <td>continuous</td>\n",
              "    </tr>\n",
              "    <tr>\n",
              "      <th>44</th>\n",
              "      <td>Ack</td>\n",
              "      <td>0.004379</td>\n",
              "      <td>continuous</td>\n",
              "    </tr>\n",
              "    <tr>\n",
              "      <th>45</th>\n",
              "      <td>Info_Filtered</td>\n",
              "      <td>0.016844</td>\n",
              "      <td>categorical</td>\n",
              "    </tr>\n",
              "  </tbody>\n",
              "</table>\n",
              "</div>"
            ],
            "text/plain": [
              "                        Variable  Δ Accuracy         Type\n",
              "0      Conversation_Protocol_T-2   -0.014991  categorical\n",
              "1      Conversation_Protocol_T-1   -0.012633  categorical\n",
              "2        Conversation_Length_T-5   -0.010780   continuous\n",
              "3      Conversation_Protocol_T-7   -0.008590  categorical\n",
              "4        Conversation_Length_T-9   -0.007580   continuous\n",
              "5      Conversation_Protocol_T-4   -0.007243  categorical\n",
              "6      Conversation_Protocol_T-5   -0.007243  categorical\n",
              "7      Conversation_Protocol_T-3   -0.006232  categorical\n",
              "8        Conversation_Length_T-6   -0.005053   continuous\n",
              "9                      Handshake   -0.004548  categorical\n",
              "10     Conversation_Protocol_T-8   -0.004379  categorical\n",
              "11       Conversation_Length_T-4   -0.004379   continuous\n",
              "12                           Win   -0.003537   continuous\n",
              "13     Conversation_Protocol_T-6   -0.002863  categorical\n",
              "14       Conversation_Length_T-8   -0.002527   continuous\n",
              "15  Conversation_From_Target_T-6   -0.002358  categorical\n",
              "16       Conversation_Length_T-3   -0.002021   continuous\n",
              "17  Conversation_From_Target_T-2   -0.001179  categorical\n",
              "18  Conversation_From_Target_T-8   -0.001179  categorical\n",
              "19  Conversation_From_Target_T-9   -0.001179  categorical\n",
              "20                   From_Target   -0.000842  categorical\n",
              "21       Conversation_Length_T-7   -0.000674   continuous\n",
              "22           Conversation_dT_T-1   -0.000505   continuous\n",
              "23           Conversation_dT_T-9   -0.000505   continuous\n",
              "24     Conversation_Protocol_T-9   -0.000337  categorical\n",
              "25  Conversation_From_Target_T-4   -0.000337  categorical\n",
              "26           Conversation_dT_T-5   -0.000337   continuous\n",
              "27           Conversation_dT_T-7   -0.000337   continuous\n",
              "28           Conversation_dT_T-3   -0.000168   continuous\n",
              "29           Conversation_dT_T-4   -0.000168   continuous\n",
              "30           Conversation_dT_T-6   -0.000168   continuous\n",
              "31  Conversation_From_Target_T-1    0.000000  categorical\n",
              "32                        Length    0.000337   continuous\n",
              "33           Conversation_dT_T-2    0.000337   continuous\n",
              "34               Conversation_dT    0.000505   continuous\n",
              "35           Conversation_dT_T-8    0.000505   continuous\n",
              "36       Conversation_Length_T-2    0.000674   continuous\n",
              "37       Conversation_Length_T-1    0.000842   continuous\n",
              "38  Conversation_From_Target_T-5    0.001011  categorical\n",
              "39  Conversation_From_Target_T-7    0.001011  categorical\n",
              "40  Conversation_From_Target_T-3    0.001684  categorical\n",
              "41                      Protocol    0.002527  categorical\n",
              "42                           Seq    0.002527   continuous\n",
              "43                           Len    0.002527   continuous\n",
              "44                           Ack    0.004379   continuous\n",
              "45                 Info_Filtered    0.016844  categorical"
            ]
          },
          "metadata": {
            "tags": []
          },
          "execution_count": 22
        }
      ]
    },
    {
      "cell_type": "markdown",
      "metadata": {
        "id": "eDJ4WsFsLLAa",
        "colab_type": "text"
      },
      "source": [
        "# Test on DoH data"
      ]
    },
    {
      "cell_type": "markdown",
      "metadata": {
        "id": "V7S7QWoJhJ_2",
        "colab_type": "text"
      },
      "source": [
        "I recorded some data using Firefox's default DoH mechanism as well, but I couldn't find cloudflare's 1.1.1.1 in the data, so I used the model to find the address for me."
      ]
    },
    {
      "cell_type": "code",
      "metadata": {
        "id": "cr-SY73mLOwu",
        "colab_type": "code",
        "colab": {}
      },
      "source": [
        "data_unknown = (TabularList.from_df(df_unknown, cat_names=cat_vars, cont_names=cont_vars, procs=procs, processor=learn.data.processor)\n",
        "                           .split_none()\n",
        "                           .label_from_df(cols=dep_var))\n",
        "data_unknown.valid = data_unknown.train\n",
        "data_unknown=data_unknown.databunch()\n",
        "learn.data.valid_dl = data_unknown.valid_dl"
      ],
      "execution_count": null,
      "outputs": []
    },
    {
      "cell_type": "code",
      "metadata": {
        "id": "y_fAK_jdLYn1",
        "colab_type": "code",
        "colab": {
          "base_uri": "https://localhost:8080/",
          "height": 34
        },
        "outputId": "72791339-a3a2-483f-a89c-beb4e23c6001"
      },
      "source": [
        "learn.validate()"
      ],
      "execution_count": null,
      "outputs": [
        {
          "output_type": "display_data",
          "data": {
            "text/html": [
              ""
            ],
            "text/plain": [
              "<IPython.core.display.HTML object>"
            ]
          },
          "metadata": {
            "tags": []
          }
        },
        {
          "output_type": "execute_result",
          "data": {
            "text/plain": [
              "[0.061186742, tensor(0.9756)]"
            ]
          },
          "metadata": {
            "tags": []
          },
          "execution_count": 35
        }
      ]
    },
    {
      "cell_type": "code",
      "metadata": {
        "id": "Y0-NBV86L0ZY",
        "colab_type": "code",
        "colab": {
          "base_uri": "https://localhost:8080/",
          "height": 311
        },
        "outputId": "986d002d-c907-4080-cdfe-96ab41774521"
      },
      "source": [
        "interp = ClassificationInterpretation.from_learner(learn)\n",
        "interp.plot_confusion_matrix()"
      ],
      "execution_count": null,
      "outputs": [
        {
          "output_type": "display_data",
          "data": {
            "text/html": [
              ""
            ],
            "text/plain": [
              "<IPython.core.display.HTML object>"
            ]
          },
          "metadata": {
            "tags": []
          }
        },
        {
          "output_type": "display_data",
          "data": {
            "image/png": "[encoded data removed]",
            "text/plain": [
              "<Figure size 432x288 with 1 Axes>"
            ]
          },
          "metadata": {
            "tags": [],
            "needs_background": "light"
          }
        }
      ]
    },
    {
      "cell_type": "code",
      "metadata": {
        "id": "NDDu_u8QDUGa",
        "colab_type": "code",
        "colab": {}
      },
      "source": [
        "data_unknown = (TabularList.from_df(df_unknown, cat_names=cat_vars, cont_names=cont_vars, procs=procs, processor=learn.data.processor)\n",
        "                           .split_none()\n",
        "                           .label_from_df(cols=dep_var)).databunch()"
      ],
      "execution_count": null,
      "outputs": []
    },
    {
      "cell_type": "code",
      "metadata": {
        "id": "ExJ5U5YyDhix",
        "colab_type": "code",
        "colab": {
          "base_uri": "https://localhost:8080/",
          "height": 34
        },
        "outputId": "c8e9f0bf-2492-4c96-a1e6-7b14f8374569"
      },
      "source": [
        "len(df_unknown)"
      ],
      "execution_count": null,
      "outputs": [
        {
          "output_type": "execute_result",
          "data": {
            "text/plain": [
              "5937"
            ]
          },
          "metadata": {
            "tags": []
          },
          "execution_count": 37
        }
      ]
    },
    {
      "cell_type": "code",
      "metadata": {
        "id": "_mykRfkFBuuY",
        "colab_type": "code",
        "colab": {
          "base_uri": "https://localhost:8080/",
          "height": 153
        },
        "outputId": "eb197e97-781d-4a53-d985-5018616968b2"
      },
      "source": [
        "preds = learn.get_preds(DatasetType.Valid)\n",
        "preds"
      ],
      "execution_count": null,
      "outputs": [
        {
          "output_type": "display_data",
          "data": {
            "text/html": [
              ""
            ],
            "text/plain": [
              "<IPython.core.display.HTML object>"
            ]
          },
          "metadata": {
            "tags": []
          }
        },
        {
          "output_type": "execute_result",
          "data": {
            "text/plain": [
              "[tensor([[9.9843e-01, 1.5682e-05, 3.2049e-04, 1.2314e-03],\n",
              "         [9.1312e-01, 2.0746e-04, 3.5578e-05, 8.6642e-02],\n",
              "         [9.7407e-01, 8.5657e-05, 1.9060e-04, 2.5650e-02],\n",
              "         ...,\n",
              "         [9.9990e-01, 4.7402e-07, 9.0590e-05, 6.0398e-06],\n",
              "         [6.0363e-01, 4.2657e-06, 3.9636e-01, 3.5994e-06],\n",
              "         [7.4858e-01, 3.5995e-05, 2.5132e-01, 6.3533e-05]]),\n",
              " tensor([0, 0, 0,  ..., 0, 0, 0])]"
            ]
          },
          "metadata": {
            "tags": []
          },
          "execution_count": 39
        }
      ]
    },
    {
      "cell_type": "code",
      "metadata": {
        "id": "E2mNnxjipWsW",
        "colab_type": "code",
        "colab": {
          "base_uri": "https://localhost:8080/",
          "height": 204
        },
        "outputId": "06e57cab-2045-4356-f285-f4201ce849bb"
      },
      "source": [
        "type = 'DoH'\n",
        "col = 2\n",
        "t = []\n",
        "for i in range(len(df_unknown)):\n",
        "  if (float(preds[0][i][col]) > float(preds[0][i][1])) & (float(preds[0][i][col]) > float(preds[0][i][0])) & (float(preds[0][i][col]) > float(preds[0][i][3])):\n",
        "    t.append(i)\n",
        "\n",
        "occur = np.unique(df_unknown.iloc[t][['Source', 'Destination']], return_counts=True)\n",
        "occur = array(occur)[:,:-1]\n",
        "\n",
        "d = pd.DataFrame(columns=['IP', 'Occurances', 'Predicted ' + type, 'Percent ' + type])\n",
        "d['IP'] = occur[0]\n",
        "d['Occurances'] = 0\n",
        "d['Predicted ' + type] = occur[1]\n",
        "for i in range(len(occur[0])):\n",
        "  ip = occur[0][i]\n",
        "  o = len(df_unknown.loc[(df_unknown['Source'] == ip) | (df_unknown['Destination'] == ip)])\n",
        "  d.loc[d['IP'] == ip, 'Occurances'] = o\n",
        "  d.loc[d['IP'] == ip, 'Percent ' + type] = occur[1][i] / o\n",
        "d.sort_values(by=['Percent ' + type], ascending=False)"
      ],
      "execution_count": null,
      "outputs": [
        {
          "output_type": "execute_result",
          "data": {
            "text/html": [
              "<div>\n",
              "<style scoped>\n",
              "    .dataframe tbody tr th:only-of-type {\n",
              "        vertical-align: middle;\n",
              "    }\n",
              "\n",
              "    .dataframe tbody tr th {\n",
              "        vertical-align: top;\n",
              "    }\n",
              "\n",
              "    .dataframe thead th {\n",
              "        text-align: right;\n",
              "    }\n",
              "</style>\n",
              "<table border=\"1\" class=\"dataframe\">\n",
              "  <thead>\n",
              "    <tr style=\"text-align: right;\">\n",
              "      <th></th>\n",
              "      <th>IP</th>\n",
              "      <th>Occurances</th>\n",
              "      <th>Predicted DoH</th>\n",
              "      <th>Percent DoH</th>\n",
              "    </tr>\n",
              "  </thead>\n",
              "  <tbody>\n",
              "    <tr>\n",
              "      <th>0</th>\n",
              "      <td>104.16.249.249</td>\n",
              "      <td>101</td>\n",
              "      <td>56</td>\n",
              "      <td>0.554455</td>\n",
              "    </tr>\n",
              "    <tr>\n",
              "      <th>1</th>\n",
              "      <td>130.211.16.53</td>\n",
              "      <td>31</td>\n",
              "      <td>6</td>\n",
              "      <td>0.193548</td>\n",
              "    </tr>\n",
              "    <tr>\n",
              "      <th>2</th>\n",
              "      <td>157.240.14.15</td>\n",
              "      <td>141</td>\n",
              "      <td>13</td>\n",
              "      <td>0.0921986</td>\n",
              "    </tr>\n",
              "    <tr>\n",
              "      <th>4</th>\n",
              "      <td>52.32.219.185</td>\n",
              "      <td>49</td>\n",
              "      <td>1</td>\n",
              "      <td>0.0204082</td>\n",
              "    </tr>\n",
              "    <tr>\n",
              "      <th>3</th>\n",
              "      <td>157.240.14.19</td>\n",
              "      <td>4836</td>\n",
              "      <td>63</td>\n",
              "      <td>0.0130273</td>\n",
              "    </tr>\n",
              "  </tbody>\n",
              "</table>\n",
              "</div>"
            ],
            "text/plain": [
              "               IP  Occurances Predicted DoH Percent DoH\n",
              "0  104.16.249.249         101            56    0.554455\n",
              "1   130.211.16.53          31             6    0.193548\n",
              "2   157.240.14.15         141            13   0.0921986\n",
              "4   52.32.219.185          49             1   0.0204082\n",
              "3   157.240.14.19        4836            63   0.0130273"
            ]
          },
          "metadata": {
            "tags": []
          },
          "execution_count": 41
        }
      ]
    },
    {
      "cell_type": "markdown",
      "metadata": {
        "id": "FDdLldXfikEv",
        "colab_type": "text"
      },
      "source": [
        "Normally, I'd say 55% is pretty bad on test data, but cloudflare's alternative DoH address definitely stands out here.\n",
        "\n",
        "One thing to keep in mind as well is that I think this data only includes somewhere around 10-20 DoH queries."
      ]
    },
    {
      "cell_type": "markdown",
      "metadata": {
        "id": "BVP6spv14Tlp",
        "colab_type": "text"
      },
      "source": [
        "# Test on Exfiltrated data"
      ]
    },
    {
      "cell_type": "markdown",
      "metadata": {
        "id": "6ihX0O4YXTTG",
        "colab_type": "text"
      },
      "source": [
        "I'd like to get exfiltration data not utilizing my own methods for this,\n",
        "but for now, I guess this will work"
      ]
    },
    {
      "cell_type": "code",
      "metadata": {
        "id": "feDsPeoc4bwH",
        "colab_type": "code",
        "colab": {}
      },
      "source": [
        "df_stealth = pd.read_csv(path + 'feature-engineered/' + 'stealth-FE.csv')"
      ],
      "execution_count": null,
      "outputs": []
    },
    {
      "cell_type": "code",
      "metadata": {
        "id": "k9qerCiG4m1C",
        "colab_type": "code",
        "colab": {}
      },
      "source": [
        "data_stealth = (TabularList.from_df(df_stealth, cat_names=cat_vars, cont_names=cont_vars, procs=procs, processor=learn.data.processor)\n",
        "                           .split_none()\n",
        "                           .label_from_df(cols=dep_var))\n",
        "data_stealth.valid = data_stealth.train\n",
        "data_stealth=data_stealth.databunch()\n",
        "learn.data.valid_dl = data_stealth.valid_dl"
      ],
      "execution_count": null,
      "outputs": []
    },
    {
      "cell_type": "code",
      "metadata": {
        "id": "fPgaDyfh4oqY",
        "colab_type": "code",
        "colab": {
          "base_uri": "https://localhost:8080/",
          "height": 34
        },
        "outputId": "87f7dd3c-c68d-4152-b6a4-f9c114ab5fdd"
      },
      "source": [
        "learn.validate()"
      ],
      "execution_count": null,
      "outputs": [
        {
          "output_type": "display_data",
          "data": {
            "text/html": [
              ""
            ],
            "text/plain": [
              "<IPython.core.display.HTML object>"
            ]
          },
          "metadata": {
            "tags": []
          }
        },
        {
          "output_type": "execute_result",
          "data": {
            "text/plain": [
              "[13.489104, tensor(0.0043)]"
            ]
          },
          "metadata": {
            "tags": []
          },
          "execution_count": 44
        }
      ]
    },
    {
      "cell_type": "code",
      "metadata": {
        "id": "H3myMSHq48NR",
        "colab_type": "code",
        "colab": {
          "base_uri": "https://localhost:8080/",
          "height": 311
        },
        "outputId": "2f566f15-e511-4c76-965a-e49ea8343985"
      },
      "source": [
        "interp = ClassificationInterpretation.from_learner(learn)\n",
        "interp.plot_confusion_matrix()"
      ],
      "execution_count": null,
      "outputs": [
        {
          "output_type": "display_data",
          "data": {
            "text/html": [
              ""
            ],
            "text/plain": [
              "<IPython.core.display.HTML object>"
            ]
          },
          "metadata": {
            "tags": []
          }
        },
        {
          "output_type": "display_data",
          "data": {
            "image/png": "[encoded data removed]",
            "text/plain": [
              "<Figure size 432x288 with 1 Axes>"
            ]
          },
          "metadata": {
            "tags": [],
            "needs_background": "light"
          }
        }
      ]
    },
    {
      "cell_type": "markdown",
      "metadata": {
        "id": "a4hvLi4_raWz",
        "colab_type": "text"
      },
      "source": [
        "Obviously the model would be really good at this; it was trained on it."
      ]
    },
    {
      "cell_type": "markdown",
      "metadata": {
        "id": "_bLss3qTYJQ2",
        "colab_type": "text"
      },
      "source": [
        "# Test on Python Queries"
      ]
    },
    {
      "cell_type": "markdown",
      "metadata": {
        "id": "wGm1OX4-YX0k",
        "colab_type": "text"
      },
      "source": [
        "This data was recorded by doing random queries with the python DoH client used for exfiltration."
      ]
    },
    {
      "cell_type": "code",
      "metadata": {
        "id": "vNVsaBZ-52it",
        "colab_type": "code",
        "colab": {}
      },
      "source": [
        "df_test = pd.read_csv(path + 'feature-engineered/' + 'test-FE.csv')"
      ],
      "execution_count": null,
      "outputs": []
    },
    {
      "cell_type": "code",
      "metadata": {
        "id": "ZkyrzoE5YQms",
        "colab_type": "code",
        "colab": {}
      },
      "source": [
        "data_test = (TabularList.from_df(df_test, cat_names=cat_vars, cont_names=cont_vars, procs=procs, processor=learn.data.processor)\n",
        "                           .split_none()\n",
        "                           .label_from_df(cols=dep_var))\n",
        "data_test.valid = data_test.train\n",
        "data_test=data_test.databunch()\n",
        "learn.data.valid_dl = data_test.valid_dl"
      ],
      "execution_count": null,
      "outputs": []
    },
    {
      "cell_type": "code",
      "metadata": {
        "id": "Q7kCBbstYUeC",
        "colab_type": "code",
        "colab": {
          "base_uri": "https://localhost:8080/",
          "height": 34
        },
        "outputId": "20ff64ee-5b47-4a06-fb6d-1094c76b3acc"
      },
      "source": [
        "learn.validate()"
      ],
      "execution_count": null,
      "outputs": [
        {
          "output_type": "display_data",
          "data": {
            "text/html": [
              ""
            ],
            "text/plain": [
              "<IPython.core.display.HTML object>"
            ]
          },
          "metadata": {
            "tags": []
          }
        },
        {
          "output_type": "execute_result",
          "data": {
            "text/plain": [
              "[13.615959, tensor(0.0140)]"
            ]
          },
          "metadata": {
            "tags": []
          },
          "execution_count": 48
        }
      ]
    },
    {
      "cell_type": "code",
      "metadata": {
        "id": "eRJZ2eHKYVlQ",
        "colab_type": "code",
        "colab": {
          "base_uri": "https://localhost:8080/",
          "height": 311
        },
        "outputId": "f278a1b7-cc6b-4ed4-ccd5-54cbb06e7668"
      },
      "source": [
        "interp = ClassificationInterpretation.from_learner(learn)\n",
        "interp.plot_confusion_matrix()"
      ],
      "execution_count": null,
      "outputs": [
        {
          "output_type": "display_data",
          "data": {
            "text/html": [
              ""
            ],
            "text/plain": [
              "<IPython.core.display.HTML object>"
            ]
          },
          "metadata": {
            "tags": []
          }
        },
        {
          "output_type": "display_data",
          "data": {
            "image/png": "[encoded data removed]",
            "text/plain": [
              "<Figure size 432x288 with 1 Axes>"
            ]
          },
          "metadata": {
            "tags": [],
            "needs_background": "light"
          }
        }
      ]
    },
    {
      "cell_type": "markdown",
      "metadata": {
        "id": "ppLmfQfuruka",
        "colab_type": "text"
      },
      "source": [
        "There appears to be something about the Python client that creates a different signature compared to the browser's queries.\n",
        "\n",
        "I don't have an explanation as to what the cause of this is yet, but perhaps this means that there's a lot more to look at."
      ]
    },
    {
      "cell_type": "markdown",
      "metadata": {
        "id": "IBpPrTTeZ98D",
        "colab_type": "text"
      },
      "source": [
        "# Early conjectures"
      ]
    },
    {
      "cell_type": "markdown",
      "metadata": {
        "id": "UKwUfBWTaFPk",
        "colab_type": "text"
      },
      "source": [
        "Based on these early results, I can say that without any traffic trickery, DNS over HTTPS traffic can very likely be differentiated from normal browsing. By itself, strange patterns of high frequency DoH traffic can be correlated to exfiltration, but experimenting with this distinction being built into the model is part of the fun.\n",
        "\n",
        "While it appears to be quite possible to detect DoH traffic, detecting exfiltration is a bit strange; in an ideal script, I don't think low frequency DoH exfiltration can be detected, but in my tests, it definitely notices a pattern.\n",
        "\n",
        "My working theory for what the model is detecting between the browser and the python script comes down to two things: the TLS version and conversation duration.\n",
        "\n",
        "My browser appears to be using TLSv1.2 for DoH traffic while the python script uses TLSv1.3 for the traffic.\n",
        "\n",
        "The conversation with the DoH server from the browser is also longer, more contiguous, and more efficient than the python script which opens a conversation for each query. (The browser offers a lot of keep-alive acknowledgements to the DoH server)\n",
        "\n",
        "Things I'd like to look into in the future:\n",
        "\n",
        "*   How different applications use DoH\n",
        "*   How different DoH servers respond\n",
        "*   Maintaining open sockets\n",
        "*   Finding other premade DoH exfiltration tools\n"
      ]
    },
    {
      "cell_type": "code",
      "metadata": {
        "id": "RhiGbaNNYWb_",
        "colab_type": "code",
        "colab": {}
      },
      "source": [
        ""
      ],
      "execution_count": null,
      "outputs": []
    }
  ]
}